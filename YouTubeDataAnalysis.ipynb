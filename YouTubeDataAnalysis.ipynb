{
  "nbformat": 4,
  "nbformat_minor": 0,
  "metadata": {
    "colab": {
      "name": "YouTubeDataAnalysis",
      "provenance": [],
      "collapsed_sections": [
        "KDOxrpypy-xV",
        "Qo7gJfln5jMy"
      ]
    },
    "kernelspec": {
      "display_name": "Python 3",
      "name": "python3"
    }
  },
  "cells": [
    {
      "cell_type": "code",
      "metadata": {
        "colab": {
          "base_uri": "https://localhost:8080/"
        },
        "id": "K9GwiCgOwku-",
        "outputId": "73379e88-ee77-4d48-a2d2-df74e49a6f82"
      },
      "source": [
        "import os\n",
        "\n",
        "# Install java\n",
        "! apt-get update -qq\n",
        "! apt-get install -y openjdk-8-jdk-headless -qq > /dev/null\n",
        "os.environ[\"JAVA_HOME\"] = \"/usr/lib/jvm/java-8-openjdk-amd64\"\n",
        "os.environ[\"PATH\"] = os.environ[\"JAVA_HOME\"] + \"/bin:\" + os.environ[\"PATH\"]\n",
        "! java -version\n",
        "\n",
        "# Install pyspark\n",
        "! pip install --ignore-installed pyspark==2.4.4\n",
        "\n",
        "# Install Spark NLP\n",
        "! pip install --ignore-installed spark-nlp"
      ],
      "execution_count": null,
      "outputs": [
        {
          "output_type": "stream",
          "text": [
            "openjdk version \"1.8.0_275\"\n",
            "OpenJDK Runtime Environment (build 1.8.0_275-8u275-b01-0ubuntu1~18.04-b01)\n",
            "OpenJDK 64-Bit Server VM (build 25.275-b01, mixed mode)\n",
            "Collecting pyspark==2.4.4\n",
            "\u001b[?25l  Downloading https://files.pythonhosted.org/packages/87/21/f05c186f4ddb01d15d0ddc36ef4b7e3cedbeb6412274a41f26b55a650ee5/pyspark-2.4.4.tar.gz (215.7MB)\n",
            "\u001b[K     |████████████████████████████████| 215.7MB 72kB/s \n",
            "\u001b[?25hCollecting py4j==0.10.7\n",
            "\u001b[?25l  Downloading https://files.pythonhosted.org/packages/e3/53/c737818eb9a7dc32a7cd4f1396e787bd94200c3997c72c1dbe028587bd76/py4j-0.10.7-py2.py3-none-any.whl (197kB)\n",
            "\u001b[K     |████████████████████████████████| 204kB 44.8MB/s \n",
            "\u001b[?25hBuilding wheels for collected packages: pyspark\n",
            "  Building wheel for pyspark (setup.py) ... \u001b[?25l\u001b[?25hdone\n",
            "  Created wheel for pyspark: filename=pyspark-2.4.4-py2.py3-none-any.whl size=216130389 sha256=6ff6ac8bf9b0bd101cc9ab4cd0631ab163c85fbb97269b36f29dab93adbcf643\n",
            "  Stored in directory: /root/.cache/pip/wheels/ab/09/4d/0d184230058e654eb1b04467dbc1292f00eaa186544604b471\n",
            "Successfully built pyspark\n",
            "Installing collected packages: py4j, pyspark\n",
            "Successfully installed py4j-0.10.7 pyspark-2.4.4\n",
            "Collecting spark-nlp\n",
            "\u001b[?25l  Downloading https://files.pythonhosted.org/packages/d9/26/f7a6ac12339d2f1ed271c46c16705665620059e4559f323695925f3c63b4/spark_nlp-2.6.4-py2.py3-none-any.whl (129kB)\n",
            "\u001b[K     |████████████████████████████████| 133kB 4.1MB/s \n",
            "\u001b[?25hInstalling collected packages: spark-nlp\n",
            "Successfully installed spark-nlp-2.6.4\n"
          ],
          "name": "stdout"
        }
      ]
    },
    {
      "cell_type": "code",
      "metadata": {
        "colab": {
          "base_uri": "https://localhost:8080/"
        },
        "id": "71YTe8_VAOnz",
        "outputId": "08efec9c-7678-4669-c1b6-ec4a7372d4bf"
      },
      "source": [
        "from google.colab import drive\n",
        "drive.mount('/content/drive')"
      ],
      "execution_count": null,
      "outputs": [
        {
          "output_type": "stream",
          "text": [
            "Mounted at /content/drive\n"
          ],
          "name": "stdout"
        }
      ]
    },
    {
      "cell_type": "code",
      "metadata": {
        "id": "qMid7BQzwote"
      },
      "source": [
        "import sparknlp\n",
        "spark = sparknlp.start() # start spark session\n",
        "from sparknlp.annotator import *\n",
        "## Pretrained Pipeline from Spark NLP\n",
        "from sparknlp.pretrained import PretrainedPipeline\n",
        "from sparknlp.base import *\n",
        "from pyspark.sql import SparkSession\n",
        "from pyspark.ml import Pipeline # Start Spark Session with Spark NLP"
      ],
      "execution_count": null,
      "outputs": []
    },
    {
      "cell_type": "code",
      "metadata": {
        "id": "LgGHdMorwsTG"
      },
      "source": [
        "# To use Spark and its API import the SparkContext\n",
        "from pyspark import SparkContext\n",
        "from pyspark.sql import SQLContext\n",
        "# Create Spark Context\n",
        "sc = SparkContext.getOrCreate()\n",
        "sqlContext = SQLContext(sc)"
      ],
      "execution_count": null,
      "outputs": []
    },
    {
      "cell_type": "code",
      "metadata": {
        "id": "mDx6QmUW6SvQ"
      },
      "source": [
        "import matplotlib.pyplot as plt\r\n",
        "import numpy as np"
      ],
      "execution_count": null,
      "outputs": []
    },
    {
      "cell_type": "code",
      "metadata": {
        "colab": {
          "base_uri": "https://localhost:8080/"
        },
        "id": "VcwabeK1x2a8",
        "outputId": "4e1500ae-d675-4b51-c088-c8e86419705a"
      },
      "source": [
        "pipeline_SA = PretrainedPipeline('analyze_sentiment', 'en')"
      ],
      "execution_count": null,
      "outputs": [
        {
          "output_type": "stream",
          "text": [
            "analyze_sentiment download started this may take some time.\n",
            "Approx size to download 4.9 MB\n",
            "[OK!]\n"
          ],
          "name": "stdout"
        }
      ]
    },
    {
      "cell_type": "code",
      "metadata": {
        "colab": {
          "base_uri": "https://localhost:8080/"
        },
        "id": "yCLYWviNyZqo",
        "outputId": "f55ec639-bd41-43aa-d1df-e5c552bb6176"
      },
      "source": [
        "from pyspark import SparkFiles\n",
        "df = sqlContext.read.csv(SparkFiles.get('/content/drive/MyDrive/USvideos.csv'), header= True, inferSchema= True).limit(552)\n",
        "df.columns"
      ],
      "execution_count": null,
      "outputs": [
        {
          "output_type": "execute_result",
          "data": {
            "text/plain": [
              "['video_id',\n",
              " 'title',\n",
              " 'channel_title',\n",
              " 'category_id',\n",
              " 'tags',\n",
              " 'views',\n",
              " 'likes',\n",
              " 'dislikes',\n",
              " 'comment_total',\n",
              " 'thumbnail_link',\n",
              " 'date']"
            ]
          },
          "metadata": {
            "tags": []
          },
          "execution_count": 7
        }
      ]
    },
    {
      "cell_type": "code",
      "metadata": {
        "id": "J5peQxgHAjaF",
        "colab": {
          "base_uri": "https://localhost:8080/"
        },
        "outputId": "c693bfc8-891f-4a3e-e1d5-f1d396b27ff5"
      },
      "source": [
        "df.show(40)"
      ],
      "execution_count": null,
      "outputs": [
        {
          "output_type": "stream",
          "text": [
            "+-----------+--------------------+--------------------+-----------+--------------------+--------+------+--------+-------------+--------------------+-----+\n",
            "|   video_id|               title|       channel_title|category_id|                tags|   views| likes|dislikes|comment_total|      thumbnail_link| date|\n",
            "+-----------+--------------------+--------------------+-----------+--------------------+--------+------+--------+-------------+--------------------+-----+\n",
            "|XpVt6Z1Gjjo|1 YEAR OF VLOGGIN...|    Logan Paul Vlogs|         24|logan paul vlog|l...| 4394029|320053|    5931|        46245|https://i.ytimg.c...|13.09|\n",
            "|K4wEI5zhHB0|iPhone X — Introd...|               Apple|         28|Apple|iPhone 10|i...| 7860119|185853|   26679|            0|https://i.ytimg.c...|13.09|\n",
            "|cLdxuaxaQwc|         My Response|           PewDiePie|         22|              [none]| 5845909|576597|   39774|       170708|https://i.ytimg.c...|13.09|\n",
            "|WYYvHb03Eog|Apple iPhone X fi...|           The Verge|         28|apple iphone x ha...| 2642103| 24975|    4542|        12829|https://i.ytimg.c...|13.09|\n",
            "|sjlHnJvXdQs|   iPhone X (parody)|          jacksfilms|         23|jacksfilms|parody...| 1168130| 96666|     568|         6666|https://i.ytimg.c...|13.09|\n",
            "|cMKX2tE5Luk|The Disaster Arti...|                 A24|          1|a24|a24 films|a24...| 1311445| 34507|     544|         3040|https://i.ytimg.c...|13.09|\n",
            "|8wNr-NQImFg|The Check In: HUD...|Late Night with S...|         23|Late night|Seth M...|  666169|  9985|     297|         1071|https://i.ytimg.c...|13.09|\n",
            "|_HTXMhKWqnA|iPhone X Impressi...|    Marques Brownlee|         28|iPhone X|iphone x...| 1728614| 74062|    2180|        15297|https://i.ytimg.c...|13.09|\n",
            "|_ANP3HR1jsM|ATTACKED BY A POL...|    RomanAtwoodVlogs|         22|Roman Atwood|Roma...| 1338533| 69687|     678|         5643|https://i.ytimg.c...|13.09|\n",
            "|zgLtEob6X-Q|Honest Trailers -...|      Screen Junkies|          1|screenjunkies|scr...| 1056891| 29943|     878|         4046|https://i.ytimg.c...|13.09|\n",
            "|Ayb_2qbZHm4| Honest College Tour|        CollegeHumor|         23|Collegehumor|CH o...|  859289| 34485|     726|         1914|https://i.ytimg.c...|13.09|\n",
            "|CsdzflTXBVQ|Best Floyd Maywea...|     Awkward Puppets|         23|best floyd maywea...|  452477| 28050|     405|         2745|https://i.ytimg.c...|13.09|\n",
            "|l864IBj7cgw|Jennifer Lawrence...|The Tonight Show ...|         23|The Tonight Show|...|  258781|  8085|     303|          726|https://i.ytimg.c...|13.09|\n",
            "|4MkC65emkG4|Hand In Hand A Be...|                 MTV|         24|mtv|video|online|...|  274358|  9215|     477|          838|https://i.ytimg.c...|13.09|\n",
            "|vu_9muoxT50|Colin Cloud: Mind...|America's Got Talent|         24|America's Got Tal...|  473691| 14740|     415|         1696|https://i.ytimg.c...|13.09|\n",
            "|1L7JFN7tQLs|iPhone X Hands on...|   Jonathan Morrison|         28|Apple|iPhone X|iP...|  514972| 18936|     641|         3817|https://i.ytimg.c...|13.09|\n",
            "|ZQK1F0wz6z4|What Do You Want ...| Wong Fu Productions|         24|panda|what should...|  282858| 14870|     300|         1398|https://i.ytimg.c...|13.09|\n",
            "|T_PuZBdT2iM|getting into a co...|               ProZD|          1|skit|korean|langu...| 1582683| 65749|    1531|         3598|https://i.ytimg.c...|13.09|\n",
            "|w8fAellnPns|Juicy Chicken Bre...| You Suck At Cooking|         26|how to|cooking|re...|  479951| 23945|     640|         1941|https://i.ytimg.c...|13.09|\n",
            "|UCrBICYM0yM|Downsizing (2017)...|  Paramount Pictures|          1|downsizing|previe...| 2693468|  7941|     302|         1432|https://i.ytimg.c...|13.09|\n",
            "|-Ifnaxi2LQg|Fergie - You Alre...|          FergieVEVO|         10|Fergie|You|Alread...|  815608| 66420|    3578|         5550|https://i.ytimg.c...|13.09|\n",
            "|B7YaMkCl3XA|Hurricane Irma de...|  Al Jazeera English|         25|5573051142001|ame...|  382525|  1521|     270|         1168|https://i.ytimg.c...|13.09|\n",
            "|5ywKal6-anc|Gigi Hadid Loses ...|                 TMZ|         24|TMZ2016FS11221|TM...|  703750|  2921|    2196|         1042|https://i.ytimg.c...|13.09|\n",
            "|4Yue-q9Jdbk|SUPERFRUIT REACTS...|          SUPERFRUIT|         24|superfruit|super|...|  255967| 21817|     293|         2017|https://i.ytimg.c...|13.09|\n",
            "|JhA1Wi9mrns|Kid Rock - Tennes...|            Kid Rock|         10|kid rock|greatest...|   96872|  3498|     482|          439|https://i.ytimg.c...|13.09|\n",
            "|EVp4-qjWVJE|Chargers vs. Bron...|                 NFL|         17|NFL|Football|offe...|  743947|  6126|     352|         2438|https://i.ytimg.c...|13.09|\n",
            "|LcZ2AuvxXNA|Nerf Bow Trick Sh...|        Dude Perfect|         17|dude perfect|dude...|10535242|384920|    7550|        23855|https://i.ytimg.c...|13.09|\n",
            "|MdzGZv3zQ-U|Action Bronson an...|      First We Feast|         26|First we feast|fw...|  483360| 16258|     245|         1588|https://i.ytimg.c...|13.09|\n",
            "|1ZNZY-gd3K0|Joe Arpaio: Last ...|     LastWeekTonight|         24|last week tonight...| 3298456| 65730|    4360|         9504|https://i.ytimg.c...|13.09|\n",
            "|2wxyDrfwlXQ|What's In This 90...|       grav3yardgirl|         26|beauty|how to|mak...|  321297| 15424|     280|         3317|https://i.ytimg.c...|13.09|\n",
            "|QBGaO89cBMI|    Radiohead - Lift|           Radiohead|         10|radiohead|lift|ok...|  752844| 42290|     359|         3250|https://i.ytimg.c...|13.09|\n",
            "|ql0Op1VcELw|What's Actually t...|Wendover Productions|         27|plane|of|the|futu...|  602127| 19575|     658|         2510|https://i.ytimg.c...|13.09|\n",
            "|JO7X9ZPoAp8|Blind People Desc...|      WatchCut Video|         24|blind people|buzz...|  136643|  6218|     127|          524|https://i.ytimg.c...|13.09|\n",
            "|GGm0FQ6i74U|What Hillary Clin...|                 Vox|         25|vox.com|vox|expla...|  244433|  9143|    6826|         4838|https://i.ytimg.c...|13.09|\n",
            "|a7Sf_H2cFdM|Drowning for Powe...|       Rooster Teeth|          1|Rooster Teeth|RT|...|  917643| 25456|     731|         1073|https://i.ytimg.c...|13.09|\n",
            "|oDIDZ9EmQfA|Jumping Through I...|        Rclbeauty101|         24|Jumping Through i...|  796896| 39791|    1252|         3868|https://i.ytimg.c...|13.09|\n",
            "|zAtHxJvSczA|Does Maggie Gylle...|Watch What Happen...|         24|What What Happens...|    2932|    71|       3|           15|https://i.ytimg.c...|13.09|\n",
            "|l_uNfGY3v8E|From the air, Irm...|           USA TODAY|         25|5572962749001|Eve...|  224532|   490|     772|          597|https://i.ytimg.c...|13.09|\n",
            "|Rew50oYjRqA|FALL MAKEUP TUTOR...|        Casey Holmes|         26|casey holmes|itsb...|  246389| 15314|     247|         1842|https://i.ytimg.c...|13.09|\n",
            "|WWexI9YiLSc|The Commuter Teas...| Movieclips Trailers|          1|The commuter|the ...|  165647|  3712|     142|          524|https://i.ytimg.c...|13.09|\n",
            "+-----------+--------------------+--------------------+-----------+--------------------+--------+------+--------+-------------+--------------------+-----+\n",
            "only showing top 40 rows\n",
            "\n"
          ],
          "name": "stdout"
        }
      ]
    },
    {
      "cell_type": "code",
      "metadata": {
        "id": "7UF_yHjNAoqF",
        "colab": {
          "base_uri": "https://localhost:8080/"
        },
        "outputId": "0f8d5faf-4140-41df-f616-c15369b35312"
      },
      "source": [
        "df.printSchema()"
      ],
      "execution_count": null,
      "outputs": [
        {
          "output_type": "stream",
          "text": [
            "root\n",
            " |-- video_id: string (nullable = true)\n",
            " |-- title: string (nullable = true)\n",
            " |-- channel_title: string (nullable = true)\n",
            " |-- category_id: integer (nullable = true)\n",
            " |-- tags: string (nullable = true)\n",
            " |-- views: integer (nullable = true)\n",
            " |-- likes: integer (nullable = true)\n",
            " |-- dislikes: integer (nullable = true)\n",
            " |-- comment_total: integer (nullable = true)\n",
            " |-- thumbnail_link: string (nullable = true)\n",
            " |-- date: string (nullable = true)\n",
            "\n"
          ],
          "name": "stdout"
        }
      ]
    },
    {
      "cell_type": "code",
      "metadata": {
        "id": "1guAwBeiFfs1",
        "colab": {
          "base_uri": "https://localhost:8080/"
        },
        "outputId": "e3a4f9be-450f-40c5-d5a7-508705bfce48"
      },
      "source": [
        "availableDf = df.where(\"likes > 0 AND dislikes > 0 AND comment_total > 0\")\n",
        "availableDf.show(40)"
      ],
      "execution_count": null,
      "outputs": [
        {
          "output_type": "stream",
          "text": [
            "+-----------+--------------------+--------------------+-----------+--------------------+--------+------+--------+-------------+--------------------+-----+\n",
            "|   video_id|               title|       channel_title|category_id|                tags|   views| likes|dislikes|comment_total|      thumbnail_link| date|\n",
            "+-----------+--------------------+--------------------+-----------+--------------------+--------+------+--------+-------------+--------------------+-----+\n",
            "|XpVt6Z1Gjjo|1 YEAR OF VLOGGIN...|    Logan Paul Vlogs|         24|logan paul vlog|l...| 4394029|320053|    5931|        46245|https://i.ytimg.c...|13.09|\n",
            "|cLdxuaxaQwc|         My Response|           PewDiePie|         22|              [none]| 5845909|576597|   39774|       170708|https://i.ytimg.c...|13.09|\n",
            "|WYYvHb03Eog|Apple iPhone X fi...|           The Verge|         28|apple iphone x ha...| 2642103| 24975|    4542|        12829|https://i.ytimg.c...|13.09|\n",
            "|sjlHnJvXdQs|   iPhone X (parody)|          jacksfilms|         23|jacksfilms|parody...| 1168130| 96666|     568|         6666|https://i.ytimg.c...|13.09|\n",
            "|cMKX2tE5Luk|The Disaster Arti...|                 A24|          1|a24|a24 films|a24...| 1311445| 34507|     544|         3040|https://i.ytimg.c...|13.09|\n",
            "|8wNr-NQImFg|The Check In: HUD...|Late Night with S...|         23|Late night|Seth M...|  666169|  9985|     297|         1071|https://i.ytimg.c...|13.09|\n",
            "|_HTXMhKWqnA|iPhone X Impressi...|    Marques Brownlee|         28|iPhone X|iphone x...| 1728614| 74062|    2180|        15297|https://i.ytimg.c...|13.09|\n",
            "|_ANP3HR1jsM|ATTACKED BY A POL...|    RomanAtwoodVlogs|         22|Roman Atwood|Roma...| 1338533| 69687|     678|         5643|https://i.ytimg.c...|13.09|\n",
            "|zgLtEob6X-Q|Honest Trailers -...|      Screen Junkies|          1|screenjunkies|scr...| 1056891| 29943|     878|         4046|https://i.ytimg.c...|13.09|\n",
            "|Ayb_2qbZHm4| Honest College Tour|        CollegeHumor|         23|Collegehumor|CH o...|  859289| 34485|     726|         1914|https://i.ytimg.c...|13.09|\n",
            "|CsdzflTXBVQ|Best Floyd Maywea...|     Awkward Puppets|         23|best floyd maywea...|  452477| 28050|     405|         2745|https://i.ytimg.c...|13.09|\n",
            "|l864IBj7cgw|Jennifer Lawrence...|The Tonight Show ...|         23|The Tonight Show|...|  258781|  8085|     303|          726|https://i.ytimg.c...|13.09|\n",
            "|4MkC65emkG4|Hand In Hand A Be...|                 MTV|         24|mtv|video|online|...|  274358|  9215|     477|          838|https://i.ytimg.c...|13.09|\n",
            "|vu_9muoxT50|Colin Cloud: Mind...|America's Got Talent|         24|America's Got Tal...|  473691| 14740|     415|         1696|https://i.ytimg.c...|13.09|\n",
            "|1L7JFN7tQLs|iPhone X Hands on...|   Jonathan Morrison|         28|Apple|iPhone X|iP...|  514972| 18936|     641|         3817|https://i.ytimg.c...|13.09|\n",
            "|ZQK1F0wz6z4|What Do You Want ...| Wong Fu Productions|         24|panda|what should...|  282858| 14870|     300|         1398|https://i.ytimg.c...|13.09|\n",
            "|T_PuZBdT2iM|getting into a co...|               ProZD|          1|skit|korean|langu...| 1582683| 65749|    1531|         3598|https://i.ytimg.c...|13.09|\n",
            "|w8fAellnPns|Juicy Chicken Bre...| You Suck At Cooking|         26|how to|cooking|re...|  479951| 23945|     640|         1941|https://i.ytimg.c...|13.09|\n",
            "|UCrBICYM0yM|Downsizing (2017)...|  Paramount Pictures|          1|downsizing|previe...| 2693468|  7941|     302|         1432|https://i.ytimg.c...|13.09|\n",
            "|-Ifnaxi2LQg|Fergie - You Alre...|          FergieVEVO|         10|Fergie|You|Alread...|  815608| 66420|    3578|         5550|https://i.ytimg.c...|13.09|\n",
            "|B7YaMkCl3XA|Hurricane Irma de...|  Al Jazeera English|         25|5573051142001|ame...|  382525|  1521|     270|         1168|https://i.ytimg.c...|13.09|\n",
            "|5ywKal6-anc|Gigi Hadid Loses ...|                 TMZ|         24|TMZ2016FS11221|TM...|  703750|  2921|    2196|         1042|https://i.ytimg.c...|13.09|\n",
            "|4Yue-q9Jdbk|SUPERFRUIT REACTS...|          SUPERFRUIT|         24|superfruit|super|...|  255967| 21817|     293|         2017|https://i.ytimg.c...|13.09|\n",
            "|JhA1Wi9mrns|Kid Rock - Tennes...|            Kid Rock|         10|kid rock|greatest...|   96872|  3498|     482|          439|https://i.ytimg.c...|13.09|\n",
            "|EVp4-qjWVJE|Chargers vs. Bron...|                 NFL|         17|NFL|Football|offe...|  743947|  6126|     352|         2438|https://i.ytimg.c...|13.09|\n",
            "|LcZ2AuvxXNA|Nerf Bow Trick Sh...|        Dude Perfect|         17|dude perfect|dude...|10535242|384920|    7550|        23855|https://i.ytimg.c...|13.09|\n",
            "|MdzGZv3zQ-U|Action Bronson an...|      First We Feast|         26|First we feast|fw...|  483360| 16258|     245|         1588|https://i.ytimg.c...|13.09|\n",
            "|1ZNZY-gd3K0|Joe Arpaio: Last ...|     LastWeekTonight|         24|last week tonight...| 3298456| 65730|    4360|         9504|https://i.ytimg.c...|13.09|\n",
            "|2wxyDrfwlXQ|What's In This 90...|       grav3yardgirl|         26|beauty|how to|mak...|  321297| 15424|     280|         3317|https://i.ytimg.c...|13.09|\n",
            "|QBGaO89cBMI|    Radiohead - Lift|           Radiohead|         10|radiohead|lift|ok...|  752844| 42290|     359|         3250|https://i.ytimg.c...|13.09|\n",
            "|ql0Op1VcELw|What's Actually t...|Wendover Productions|         27|plane|of|the|futu...|  602127| 19575|     658|         2510|https://i.ytimg.c...|13.09|\n",
            "|JO7X9ZPoAp8|Blind People Desc...|      WatchCut Video|         24|blind people|buzz...|  136643|  6218|     127|          524|https://i.ytimg.c...|13.09|\n",
            "|GGm0FQ6i74U|What Hillary Clin...|                 Vox|         25|vox.com|vox|expla...|  244433|  9143|    6826|         4838|https://i.ytimg.c...|13.09|\n",
            "|a7Sf_H2cFdM|Drowning for Powe...|       Rooster Teeth|          1|Rooster Teeth|RT|...|  917643| 25456|     731|         1073|https://i.ytimg.c...|13.09|\n",
            "|oDIDZ9EmQfA|Jumping Through I...|        Rclbeauty101|         24|Jumping Through i...|  796896| 39791|    1252|         3868|https://i.ytimg.c...|13.09|\n",
            "|zAtHxJvSczA|Does Maggie Gylle...|Watch What Happen...|         24|What What Happens...|    2932|    71|       3|           15|https://i.ytimg.c...|13.09|\n",
            "|l_uNfGY3v8E|From the air, Irm...|           USA TODAY|         25|5572962749001|Eve...|  224532|   490|     772|          597|https://i.ytimg.c...|13.09|\n",
            "|Rew50oYjRqA|FALL MAKEUP TUTOR...|        Casey Holmes|         26|casey holmes|itsb...|  246389| 15314|     247|         1842|https://i.ytimg.c...|13.09|\n",
            "|WWexI9YiLSc|The Commuter Teas...| Movieclips Trailers|          1|The commuter|the ...|  165647|  3712|     142|          524|https://i.ytimg.c...|13.09|\n",
            "|LDcm6twPEJA|The Problem With ...|  The School of Life|         27|the school of lif...|  162818|  9531|     416|         1079|https://i.ytimg.c...|13.09|\n",
            "+-----------+--------------------+--------------------+-----------+--------------------+--------+------+--------+-------------+--------------------+-----+\n",
            "only showing top 40 rows\n",
            "\n"
          ],
          "name": "stdout"
        }
      ]
    },
    {
      "cell_type": "code",
      "metadata": {
        "id": "o1zikjr6BvDe",
        "colab": {
          "base_uri": "https://localhost:8080/"
        },
        "outputId": "87757ed2-ab4b-4060-db07-d61961dae335"
      },
      "source": [
        "dropColumns = ['channel_title', 'category_id', 'tags', 'thumbnail_link']\n",
        "dropDf = availableDf.drop(*dropColumns)\n",
        "\n",
        "dropDf = dropDf.withColumn('views', dropDf['views'].cast('double'))\n",
        "dropDf = dropDf.withColumn('likes', dropDf['likes'].cast('double'))\n",
        "dropDf = dropDf.withColumn('dislikes', dropDf['dislikes'].cast('double'))\n",
        "dropDf = dropDf.withColumn('date', dropDf['date'].cast('double'))\n",
        "\n",
        "videoDataDF = dropDf.withColumn('comment_total', dropDf['comment_total'].cast('double'))\n",
        "\n",
        "\n",
        "videoDataDF.show()"
      ],
      "execution_count": null,
      "outputs": [
        {
          "output_type": "stream",
          "text": [
            "+-----------+--------------------+---------+--------+--------+-------------+-----+\n",
            "|   video_id|               title|    views|   likes|dislikes|comment_total| date|\n",
            "+-----------+--------------------+---------+--------+--------+-------------+-----+\n",
            "|XpVt6Z1Gjjo|1 YEAR OF VLOGGIN...|4394029.0|320053.0|  5931.0|      46245.0|13.09|\n",
            "|cLdxuaxaQwc|         My Response|5845909.0|576597.0| 39774.0|     170708.0|13.09|\n",
            "|WYYvHb03Eog|Apple iPhone X fi...|2642103.0| 24975.0|  4542.0|      12829.0|13.09|\n",
            "|sjlHnJvXdQs|   iPhone X (parody)|1168130.0| 96666.0|   568.0|       6666.0|13.09|\n",
            "|cMKX2tE5Luk|The Disaster Arti...|1311445.0| 34507.0|   544.0|       3040.0|13.09|\n",
            "|8wNr-NQImFg|The Check In: HUD...| 666169.0|  9985.0|   297.0|       1071.0|13.09|\n",
            "|_HTXMhKWqnA|iPhone X Impressi...|1728614.0| 74062.0|  2180.0|      15297.0|13.09|\n",
            "|_ANP3HR1jsM|ATTACKED BY A POL...|1338533.0| 69687.0|   678.0|       5643.0|13.09|\n",
            "|zgLtEob6X-Q|Honest Trailers -...|1056891.0| 29943.0|   878.0|       4046.0|13.09|\n",
            "|Ayb_2qbZHm4| Honest College Tour| 859289.0| 34485.0|   726.0|       1914.0|13.09|\n",
            "|CsdzflTXBVQ|Best Floyd Maywea...| 452477.0| 28050.0|   405.0|       2745.0|13.09|\n",
            "|l864IBj7cgw|Jennifer Lawrence...| 258781.0|  8085.0|   303.0|        726.0|13.09|\n",
            "|4MkC65emkG4|Hand In Hand A Be...| 274358.0|  9215.0|   477.0|        838.0|13.09|\n",
            "|vu_9muoxT50|Colin Cloud: Mind...| 473691.0| 14740.0|   415.0|       1696.0|13.09|\n",
            "|1L7JFN7tQLs|iPhone X Hands on...| 514972.0| 18936.0|   641.0|       3817.0|13.09|\n",
            "|ZQK1F0wz6z4|What Do You Want ...| 282858.0| 14870.0|   300.0|       1398.0|13.09|\n",
            "|T_PuZBdT2iM|getting into a co...|1582683.0| 65749.0|  1531.0|       3598.0|13.09|\n",
            "|w8fAellnPns|Juicy Chicken Bre...| 479951.0| 23945.0|   640.0|       1941.0|13.09|\n",
            "|UCrBICYM0yM|Downsizing (2017)...|2693468.0|  7941.0|   302.0|       1432.0|13.09|\n",
            "|-Ifnaxi2LQg|Fergie - You Alre...| 815608.0| 66420.0|  3578.0|       5550.0|13.09|\n",
            "+-----------+--------------------+---------+--------+--------+-------------+-----+\n",
            "only showing top 20 rows\n",
            "\n"
          ],
          "name": "stdout"
        }
      ]
    },
    {
      "cell_type": "code",
      "metadata": {
        "id": "1l4dOshyfl4V",
        "colab": {
          "base_uri": "https://localhost:8080/"
        },
        "outputId": "14bfaa27-d96d-4256-c2d1-bd1509c21677"
      },
      "source": [
        "videoDataDF = videoDataDF.withColumn('likeRatio', videoDataDF.likes / (videoDataDF.likes + videoDataDF.dislikes))\n",
        "\n",
        "videoDataDF.show()"
      ],
      "execution_count": null,
      "outputs": [
        {
          "output_type": "stream",
          "text": [
            "+-----------+--------------------+---------+--------+--------+-------------+-----+------------------+\n",
            "|   video_id|               title|    views|   likes|dislikes|comment_total| date|         likeRatio|\n",
            "+-----------+--------------------+---------+--------+--------+-------------+-----+------------------+\n",
            "|XpVt6Z1Gjjo|1 YEAR OF VLOGGIN...|4394029.0|320053.0|  5931.0|      46245.0|13.09|0.9818058555021105|\n",
            "|cLdxuaxaQwc|         My Response|5845909.0|576597.0| 39774.0|     170708.0|13.09|0.9354706824299002|\n",
            "|WYYvHb03Eog|Apple iPhone X fi...|2642103.0| 24975.0|  4542.0|      12829.0|13.09|0.8461225734322594|\n",
            "|sjlHnJvXdQs|   iPhone X (parody)|1168130.0| 96666.0|   568.0|       6666.0|13.09|0.9941584219511693|\n",
            "|cMKX2tE5Luk|The Disaster Arti...|1311445.0| 34507.0|   544.0|       3040.0|13.09| 0.984479758066817|\n",
            "|8wNr-NQImFg|The Check In: HUD...| 666169.0|  9985.0|   297.0|       1071.0|13.09|0.9711145691499709|\n",
            "|_HTXMhKWqnA|iPhone X Impressi...|1728614.0| 74062.0|  2180.0|      15297.0|13.09| 0.971406836127069|\n",
            "|_ANP3HR1jsM|ATTACKED BY A POL...|1338533.0| 69687.0|   678.0|       5643.0|13.09|0.9903645278192283|\n",
            "|zgLtEob6X-Q|Honest Trailers -...|1056891.0| 29943.0|   878.0|       4046.0|13.09|0.9715129294961228|\n",
            "|Ayb_2qbZHm4| Honest College Tour| 859289.0| 34485.0|   726.0|       1914.0|13.09| 0.979381443298969|\n",
            "|CsdzflTXBVQ|Best Floyd Maywea...| 452477.0| 28050.0|   405.0|       2745.0|13.09|0.9857670005271482|\n",
            "|l864IBj7cgw|Jennifer Lawrence...| 258781.0|  8085.0|   303.0|        726.0|13.09|0.9638769670958512|\n",
            "|4MkC65emkG4|Hand In Hand A Be...| 274358.0|  9215.0|   477.0|        838.0|13.09|0.9507841518778374|\n",
            "|vu_9muoxT50|Colin Cloud: Mind...| 473691.0| 14740.0|   415.0|       1696.0|13.09|0.9726162982514022|\n",
            "|1L7JFN7tQLs|iPhone X Hands on...| 514972.0| 18936.0|   641.0|       3817.0|13.09|0.9672574960412729|\n",
            "|ZQK1F0wz6z4|What Do You Want ...| 282858.0| 14870.0|   300.0|       1398.0|13.09|  0.98022412656559|\n",
            "|T_PuZBdT2iM|getting into a co...|1582683.0| 65749.0|  1531.0|       3598.0|13.09|  0.97724435196195|\n",
            "|w8fAellnPns|Juicy Chicken Bre...| 479951.0| 23945.0|   640.0|       1941.0|13.09|0.9739678665853162|\n",
            "|UCrBICYM0yM|Downsizing (2017)...|2693468.0|  7941.0|   302.0|       1432.0|13.09|0.9633628533300983|\n",
            "|-Ifnaxi2LQg|Fergie - You Alre...| 815608.0| 66420.0|  3578.0|       5550.0|13.09|0.9488842538358239|\n",
            "+-----------+--------------------+---------+--------+--------+-------------+-----+------------------+\n",
            "only showing top 20 rows\n",
            "\n"
          ],
          "name": "stdout"
        }
      ]
    },
    {
      "cell_type": "code",
      "metadata": {
        "id": "A-2-miwPFCHj",
        "colab": {
          "base_uri": "https://localhost:8080/"
        },
        "outputId": "0b976edb-77b7-4275-ff42-75b4df6cd1fb"
      },
      "source": [
        "videoDataDF.printSchema()"
      ],
      "execution_count": null,
      "outputs": [
        {
          "output_type": "stream",
          "text": [
            "root\n",
            " |-- video_id: string (nullable = true)\n",
            " |-- title: string (nullable = true)\n",
            " |-- views: double (nullable = true)\n",
            " |-- likes: double (nullable = true)\n",
            " |-- dislikes: double (nullable = true)\n",
            " |-- comment_total: double (nullable = true)\n",
            " |-- date: double (nullable = true)\n",
            " |-- likeRatio: double (nullable = true)\n",
            "\n"
          ],
          "name": "stdout"
        }
      ]
    },
    {
      "cell_type": "markdown",
      "metadata": {
        "id": "mX4SGYdbFQqv"
      },
      "source": [
        ""
      ]
    },
    {
      "cell_type": "markdown",
      "metadata": {
        "id": "aKR6rBHIyy5W"
      },
      "source": [
        "# Comment Sentiment"
      ]
    },
    {
      "cell_type": "code",
      "metadata": {
        "id": "XbvrvtLmEUgJ"
      },
      "source": [
        "from pyspark.sql.functions import regexp_replace, trim, col\n",
        "def removePunctuation(column):\n",
        "  return trim(regexp_replace(column, '[^\\sa-zA-Z]', '')).alias('transcriptSnippet')"
      ],
      "execution_count": null,
      "outputs": []
    },
    {
      "cell_type": "code",
      "metadata": {
        "id": "Ki8iR4TAWqHU",
        "colab": {
          "base_uri": "https://localhost:8080/"
        },
        "outputId": "5f9f952e-8215-4058-d5ab-a2914863ed1d"
      },
      "source": [
        "import nltk\n",
        "import pandas as pd\n",
        "from nltk.corpus import stopwords\n",
        "nltk.download('stopwords')\n",
        "stops = set(stopwords.words('english'))  # nltk stopwords list"
      ],
      "execution_count": null,
      "outputs": [
        {
          "output_type": "stream",
          "text": [
            "[nltk_data] Downloading package stopwords to /root/nltk_data...\n",
            "[nltk_data]   Unzipping corpora/stopwords.zip.\n"
          ],
          "name": "stdout"
        }
      ]
    },
    {
      "cell_type": "code",
      "metadata": {
        "id": "1EM80cqldldv"
      },
      "source": [
        "spark.conf.set(\"spark.sql.execution.arrow.enabled\", \"true\")"
      ],
      "execution_count": null,
      "outputs": []
    },
    {
      "cell_type": "code",
      "metadata": {
        "id": "sXenepSpf9m8",
        "colab": {
          "base_uri": "https://localhost:8080/"
        },
        "outputId": "30c6e732-ec6f-4bbb-92e6-14715726c580"
      },
      "source": [
        "df = sqlContext.read.csv(SparkFiles.get('/content/drive/MyDrive/comments/out0.csv'), header= True, inferSchema= True)\n",
        "df.columns\n",
        "df.printSchema()"
      ],
      "execution_count": null,
      "outputs": [
        {
          "output_type": "stream",
          "text": [
            "root\n",
            " |-- video_id: string (nullable = true)\n",
            " |-- comment_text: string (nullable = true)\n",
            " |-- likes: integer (nullable = true)\n",
            " |-- replies: integer (nullable = true)\n",
            "\n"
          ],
          "name": "stdout"
        }
      ]
    },
    {
      "cell_type": "code",
      "metadata": {
        "id": "anYXylRnf-JT",
        "colab": {
          "base_uri": "https://localhost:8080/"
        },
        "outputId": "97ecb6c2-66e9-4c50-8456-f8a65f0845b6"
      },
      "source": [
        "dropColumns = ['likes', 'replies']\n",
        "commentsDF = df.drop(*dropColumns)\n",
        "\n",
        "commentsDF.show()"
      ],
      "execution_count": null,
      "outputs": [
        {
          "output_type": "stream",
          "text": [
            "+-----------+--------------------+\n",
            "|   video_id|        comment_text|\n",
            "+-----------+--------------------+\n",
            "|XpVt6Z1Gjjo|Logan Paul it's y...|\n",
            "|XpVt6Z1Gjjo|I've been followi...|\n",
            "|XpVt6Z1Gjjo|Say hi to Kong an...|\n",
            "|XpVt6Z1Gjjo| MY FAN . attendance|\n",
            "|XpVt6Z1Gjjo|           trending |\n",
            "|XpVt6Z1Gjjo|#1 on trending AY...|\n",
            "|XpVt6Z1Gjjo|     The end though |\n",
            "|XpVt6Z1Gjjo|#1 trending!!!!!!!!!|\n",
            "|XpVt6Z1Gjjo|Happy one year vl...|\n",
            "|XpVt6Z1Gjjo|You and your shit...|\n",
            "|XpVt6Z1Gjjo|There should be a...|\n",
            "|XpVt6Z1Gjjo|Dear Logan, I rea...|\n",
            "|XpVt6Z1Gjjo|Honestly Evan is ...|\n",
            "|XpVt6Z1Gjjo|Casey is still be...|\n",
            "|XpVt6Z1Gjjo|aw geez rick this...|\n",
            "|XpVt6Z1Gjjo|He happy cause he...|\n",
            "|XpVt6Z1Gjjo|Ayyyyoooo Logang ...|\n",
            "|XpVt6Z1Gjjo|Bro y didnt u giv...|\n",
            "|XpVt6Z1Gjjo|It's been fun wat...|\n",
            "|XpVt6Z1Gjjo|Made a lot of peo...|\n",
            "+-----------+--------------------+\n",
            "only showing top 20 rows\n",
            "\n"
          ],
          "name": "stdout"
        }
      ]
    },
    {
      "cell_type": "code",
      "metadata": {
        "id": "6HywHgvGgEtZ"
      },
      "source": [
        "from pyspark.sql.functions import regexp_replace, trim, col\n",
        "def removePunctuation(column):\n",
        "  return trim(regexp_replace(column, '[^\\sa-zA-Z]', '')).alias('comment_text')"
      ],
      "execution_count": null,
      "outputs": []
    },
    {
      "cell_type": "code",
      "metadata": {
        "id": "sgrYUHkWge2t",
        "colab": {
          "base_uri": "https://localhost:8080/"
        },
        "outputId": "a5eda7ca-35e7-4e37-ae4a-72c01f704ab1"
      },
      "source": [
        "# Get rid of punctuation\n",
        "commentsDFNoPunc = commentsDF.select(col('video_id'), removePunctuation(col('comment_text')))\n",
        "commentsDFNoPunc = commentsDFNoPunc.where('comment_text != \"\"')\n",
        "commentsDFNoPunc.show()"
      ],
      "execution_count": null,
      "outputs": [
        {
          "output_type": "stream",
          "text": [
            "+-----------+--------------------+\n",
            "|   video_id|        comment_text|\n",
            "+-----------+--------------------+\n",
            "|XpVt6Z1Gjjo|Logan Paul its yo...|\n",
            "|XpVt6Z1Gjjo|Ive been followin...|\n",
            "|XpVt6Z1Gjjo|Say hi to Kong an...|\n",
            "|XpVt6Z1Gjjo|  MY FAN  attendance|\n",
            "|XpVt6Z1Gjjo|            trending|\n",
            "|XpVt6Z1Gjjo|on trending AYYEEEEE|\n",
            "|XpVt6Z1Gjjo|      The end though|\n",
            "|XpVt6Z1Gjjo|            trending|\n",
            "|XpVt6Z1Gjjo|Happy one year vl...|\n",
            "|XpVt6Z1Gjjo|You and your shit...|\n",
            "|XpVt6Z1Gjjo|There should be a...|\n",
            "|XpVt6Z1Gjjo|Dear Logan I real...|\n",
            "|XpVt6Z1Gjjo|Honestly Evan is ...|\n",
            "|XpVt6Z1Gjjo|Casey is still be...|\n",
            "|XpVt6Z1Gjjo|aw geez rick this...|\n",
            "|XpVt6Z1Gjjo|He happy cause he...|\n",
            "|XpVt6Z1Gjjo|Ayyyyoooo Logang ...|\n",
            "|XpVt6Z1Gjjo|Bro y didnt u giv...|\n",
            "|XpVt6Z1Gjjo|Its been fun watc...|\n",
            "|XpVt6Z1Gjjo|Made a lot of peo...|\n",
            "+-----------+--------------------+\n",
            "only showing top 20 rows\n",
            "\n"
          ],
          "name": "stdout"
        }
      ]
    },
    {
      "cell_type": "code",
      "metadata": {
        "id": "AFX8mv1fgw5O",
        "colab": {
          "base_uri": "https://localhost:8080/"
        },
        "outputId": "fd75ff76-61e2-410b-e778-1b87f160842a"
      },
      "source": [
        "commentsDfPandas = commentsDFNoPunc.toPandas()\n",
        "commentsDfPandas['comment_text'] = commentsDfPandas['comment_text'].apply(lambda x: ' '.join([word for word in x.split() if word not in (stops)]))\n",
        "print(commentsDfPandas)"
      ],
      "execution_count": null,
      "outputs": [
        {
          "output_type": "stream",
          "text": [
            "/usr/local/lib/python3.6/dist-packages/pyarrow/__init__.py:157: UserWarning: pyarrow.open_stream is deprecated, please use pyarrow.ipc.open_stream\n",
            "  warnings.warn(\"pyarrow.open_stream is deprecated, please use \"\n"
          ],
          "name": "stderr"
        },
        {
          "output_type": "stream",
          "text": [
            "          video_id                                  comment_text\n",
            "0      XpVt6Z1Gjjo                         Logan Paul yo big day\n",
            "1      XpVt6Z1Gjjo   Ive following start vine channel seen vlogs\n",
            "2      XpVt6Z1Gjjo                          Say hi Kong maverick\n",
            "3      XpVt6Z1Gjjo                             MY FAN attendance\n",
            "4      XpVt6Z1Gjjo                                      trending\n",
            "...            ...                                           ...\n",
            "19574  zAtHxJvSczA         Maggie G looks like Sloth The Goonies\n",
            "19575  zAtHxJvSczA                     DAFUQ aluminum foil dress\n",
            "19576  zAtHxJvSczA                                    might jake\n",
            "19577  zAtHxJvSczA           im sure Taylor many missing scarves\n",
            "19578  zAtHxJvSczA  Maybe someone use scarf silence Taylor swift\n",
            "\n",
            "[19579 rows x 2 columns]\n"
          ],
          "name": "stdout"
        }
      ]
    },
    {
      "cell_type": "code",
      "metadata": {
        "id": "CNrV4aizhRQq"
      },
      "source": [
        "commentsNoStopDf = spark.createDataFrame(commentsDfPandas)"
      ],
      "execution_count": null,
      "outputs": []
    },
    {
      "cell_type": "code",
      "metadata": {
        "id": "Y4XxbPmEhmRc",
        "colab": {
          "base_uri": "https://localhost:8080/"
        },
        "outputId": "ee317c61-30a1-4f66-a9d5-0bd66d8ae6f9"
      },
      "source": [
        "comment_text = commentsNoStopDf.select('comment_text').rdd.map(lambda x: x['comment_text']).collect()\n",
        "\n",
        "print(type(comment_text))\n",
        "\n",
        "commentSentimentResults = pipeline_SA.annotate(comment_text)"
      ],
      "execution_count": null,
      "outputs": [
        {
          "output_type": "stream",
          "text": [
            "<class 'list'>\n"
          ],
          "name": "stdout"
        }
      ]
    },
    {
      "cell_type": "code",
      "metadata": {
        "id": "TMs46id8h9G3",
        "colab": {
          "base_uri": "https://localhost:8080/"
        },
        "outputId": "0226737e-f364-44da-9cb0-e8bcff032e2c"
      },
      "source": [
        "#print(commentSentimentResults)\n",
        "sentimentRddComment = sc.parallelize(commentSentimentResults)\n",
        "sentimentDFComment = sentimentRddComment.toDF()\n",
        "sentimentDFComment = sentimentDFComment.select('document', 'sentiment')\n",
        "sentimentDFComment = sentimentDFComment.withColumn('comment', sentimentDFComment.document[0])\n",
        "sentimentDFComment = sentimentDFComment.withColumn('sentiment', sentimentDFComment.sentiment[0])\n",
        "dropColumns = ['document']\n",
        "sentimentDFComment = sentimentDFComment.drop(*dropColumns)\n",
        "sentimentDFComment.show()\n",
        "sentimentDFComment.printSchema()"
      ],
      "execution_count": null,
      "outputs": [
        {
          "output_type": "stream",
          "text": [
            "/usr/local/lib/python3.6/dist-packages/pyspark/sql/session.py:366: UserWarning: Using RDD of dict to inferSchema is deprecated. Use pyspark.sql.Row instead\n",
            "  warnings.warn(\"Using RDD of dict to inferSchema is deprecated. \"\n"
          ],
          "name": "stderr"
        },
        {
          "output_type": "stream",
          "text": [
            "+---------+--------------------+\n",
            "|sentiment|             comment|\n",
            "+---------+--------------------+\n",
            "| negative|Logan Paul yo big...|\n",
            "| positive|Ive following sta...|\n",
            "| negative|Say hi Kong maverick|\n",
            "| positive|   MY FAN attendance|\n",
            "|       na|            trending|\n",
            "|       na|   trending AYYEEEEE|\n",
            "| positive|      The end though|\n",
            "|       na|            trending|\n",
            "| negative|Happy one year vl...|\n",
            "| negative|You shit brother ...|\n",
            "| negative|There mini Logan ...|\n",
            "| positive|Dear Logan I real...|\n",
            "| negative|Honestly Evan ann...|\n",
            "| negative|Casey still bette...|\n",
            "| negative|aw geez rick guy ...|\n",
            "| negative|He happy cause movie|\n",
            "| negative|Ayyyyoooo Logang ...|\n",
            "| negative|Bro didnt u give ...|\n",
            "| positive|Its fun watching ...|\n",
            "| negative|Made lot people h...|\n",
            "+---------+--------------------+\n",
            "only showing top 20 rows\n",
            "\n",
            "root\n",
            " |-- sentiment: string (nullable = true)\n",
            " |-- comment: string (nullable = true)\n",
            "\n"
          ],
          "name": "stdout"
        }
      ]
    },
    {
      "cell_type": "code",
      "metadata": {
        "id": "UketfWfGiYfe",
        "colab": {
          "base_uri": "https://localhost:8080/"
        },
        "outputId": "c36d4613-5b81-4249-fe9a-ef24bd012987"
      },
      "source": [
        "commentSentimentDF = commentsNoStopDf.join(sentimentDFComment, commentsNoStopDf.comment_text == sentimentDFComment.comment)\n",
        "commentSentimentDF = commentSentimentDF.drop('comment')\n",
        "commentSentimentDF = commentSentimentDF.where('sentiment != \"na\"')\n",
        "commentSentimentDF.show()"
      ],
      "execution_count": null,
      "outputs": [
        {
          "output_type": "stream",
          "text": [
            "+-----------+--------------------+---------+\n",
            "|   video_id|        comment_text|sentiment|\n",
            "+-----------+--------------------+---------+\n",
            "|9YyB6sQ4iwA|Am I person think...| positive|\n",
            "|eM_FR7I2Ttw|             Amazing| positive|\n",
            "|eM_FR7I2Ttw|             Amazing| positive|\n",
            "|eM_FR7I2Ttw|             Amazing| positive|\n",
            "|eM_FR7I2Ttw|             Amazing| positive|\n",
            "|eM_FR7I2Ttw|             Amazing| positive|\n",
            "|eM_FR7I2Ttw|             Amazing| positive|\n",
            "|eM_FR7I2Ttw|             Amazing| positive|\n",
            "|eM_FR7I2Ttw|             Amazing| positive|\n",
            "|eM_FR7I2Ttw|             Amazing| positive|\n",
            "|eM_FR7I2Ttw|             Amazing| positive|\n",
            "|eM_FR7I2Ttw|             Amazing| positive|\n",
            "|eM_FR7I2Ttw|             Amazing| positive|\n",
            "|eM_FR7I2Ttw|             Amazing| positive|\n",
            "|AHrCI9eSJGQ|             Amazing| positive|\n",
            "|AHrCI9eSJGQ|             Amazing| positive|\n",
            "|AHrCI9eSJGQ|             Amazing| positive|\n",
            "|AHrCI9eSJGQ|             Amazing| positive|\n",
            "|AHrCI9eSJGQ|             Amazing| positive|\n",
            "|AHrCI9eSJGQ|             Amazing| positive|\n",
            "+-----------+--------------------+---------+\n",
            "only showing top 20 rows\n",
            "\n"
          ],
          "name": "stdout"
        }
      ]
    },
    {
      "cell_type": "code",
      "metadata": {
        "colab": {
          "base_uri": "https://localhost:8080/"
        },
        "id": "H9fwGSFIjR0W",
        "outputId": "38c1ad82-3b56-48ea-c268-9c054c668bd1"
      },
      "source": [
        "commentSentimentDF.createOrReplaceTempView(\"commentSentimentDF\")\n",
        "\n",
        "commentSqlQuerySentimentCount = sqlContext.sql(\n",
        "    'SELECT sum(case sentiment WHEN \"positive\" then 1 else 0 end) as PositiveCommentCount, sum(case sentiment WHEN \"negative\" then 1 else 0 end) as NegativeCommentCount, video_id as id FROM commentSentimentDF GROUP BY video_id')\n",
        "commentSqlQuerySentimentCount.show()"
      ],
      "execution_count": null,
      "outputs": [
        {
          "output_type": "stream",
          "text": [
            "+--------------------+--------------------+-----------+\n",
            "|PositiveCommentCount|NegativeCommentCount|         id|\n",
            "+--------------------+--------------------+-----------+\n",
            "|                   8|                  16|mGqR9sgMIyA|\n",
            "|                  76|                  33|a7Sf_H2cFdM|\n",
            "|                 124|                 115|1L7JFN7tQLs|\n",
            "|                  37|                  44|zTjcPeb2Gwg|\n",
            "|                  11|                  12|k9bYO7uSnrg|\n",
            "|                 107|                  76|WYYvHb03Eog|\n",
            "|                  44|                  49|LTnl36-0-zU|\n",
            "|                  77|                  32|oDIDZ9EmQfA|\n",
            "|                  53|                  45|X7ld45pUueQ|\n",
            "|                  61|                  45|J_e77K4n6Ts|\n",
            "|                  49|                  48|DUFBEamEF0Q|\n",
            "|                 119|                  90|vu_9muoxT50|\n",
            "|                  97|                  30|REyxoxScrbU|\n",
            "|                  43|                  43|_uLmn_Dba08|\n",
            "|                  40|                  59|bnON1y-fKag|\n",
            "|                  32|                  56|S6eJbe5GyDo|\n",
            "|                  45|                  48|-cYk6sbe11c|\n",
            "|                  67|                  41|eM_FR7I2Ttw|\n",
            "|                  62|                  37|TdH_NL35Nbw|\n",
            "|                  65|                  42|H_A0Z4S30Ds|\n",
            "+--------------------+--------------------+-----------+\n",
            "only showing top 20 rows\n",
            "\n"
          ],
          "name": "stdout"
        }
      ]
    },
    {
      "cell_type": "code",
      "metadata": {
        "colab": {
          "base_uri": "https://localhost:8080/"
        },
        "id": "tkKGt5-Ijw8D",
        "outputId": "fa702226-36f7-47a2-a531-1b14b987d7a7"
      },
      "source": [
        "videoDataDF = videoDataDF.join(commentSqlQuerySentimentCount, commentSqlQuerySentimentCount.id == videoDataDF.video_id)\n",
        "videoDataDF = videoDataDF.drop('id')\n",
        "\n",
        "videoDataDF.show()"
      ],
      "execution_count": null,
      "outputs": [
        {
          "output_type": "stream",
          "text": [
            "+-----------+--------------------+---------+-------+--------+-------------+-----+------------------+--------------------+--------------------+\n",
            "|   video_id|               title|    views|  likes|dislikes|comment_total| date|         likeRatio|PositiveCommentCount|NegativeCommentCount|\n",
            "+-----------+--------------------+---------+-------+--------+-------------+-----+------------------+--------------------+--------------------+\n",
            "|mGqR9sgMIyA|Orlando braces fo...|  25652.0|   73.0|    11.0|         62.0|13.09|0.8690476190476191|                   8|                  16|\n",
            "|a7Sf_H2cFdM|Drowning for Powe...| 971242.0|26435.0|   748.0|       1055.0|15.09|0.9724828017510945|                  76|                  33|\n",
            "|a7Sf_H2cFdM|Drowning for Powe...| 947706.0|25968.0|   741.0|       1139.0|14.09|0.9722565427384028|                  76|                  33|\n",
            "|a7Sf_H2cFdM|Drowning for Powe...| 917643.0|25456.0|   731.0|       1073.0|13.09|0.9720853858784894|                  76|                  33|\n",
            "|1L7JFN7tQLs|iPhone X + iPhone...| 868054.0|24364.0|   976.0|       4644.0|15.09| 0.961483820047356|                 124|                 115|\n",
            "|1L7JFN7tQLs|iPhone X Hands on...| 751902.0|22556.0|   870.0|       4638.0|14.09| 0.962861777512166|                 124|                 115|\n",
            "|1L7JFN7tQLs|iPhone X Hands on...| 514972.0|18936.0|   641.0|       3817.0|13.09|0.9672574960412729|                 124|                 115|\n",
            "|zTjcPeb2Gwg|IM GONNA BE A FAT...| 999412.0|29142.0|   616.0|       6399.0|15.09|0.9792996841185564|                  37|                  44|\n",
            "|zTjcPeb2Gwg|IM GONNA BE A FAT...| 892442.0|27575.0|   554.0|       6161.0|14.09|0.9803050232855771|                  37|                  44|\n",
            "|zTjcPeb2Gwg|IM GONNA BE A FAT...| 807779.0|26521.0|   522.0|       5996.0|13.09|0.9806974078319713|                  37|                  44|\n",
            "|k9bYO7uSnrg|   iPhone X hands on|  14577.0|  160.0|    19.0|         51.0|13.09|0.8938547486033519|                  11|                  12|\n",
            "|WYYvHb03Eog|Apple iPhone X fi...|4257519.0|33617.0|  6882.0|      18323.0|15.09|0.8300698782685992|                 107|                  76|\n",
            "|WYYvHb03Eog|Apple iPhone X fi...|3654879.0|30836.0|  6101.0|      16713.0|14.09| 0.834826867368763|                 107|                  76|\n",
            "|WYYvHb03Eog|Apple iPhone X fi...|2642103.0|24975.0|  4542.0|      12829.0|13.09|0.8461225734322594|                 107|                  76|\n",
            "|LTnl36-0-zU|After Hours: 6 Mo...| 410406.0|14671.0|   344.0|       1407.0|14.09|0.9770895770895771|                  44|                  49|\n",
            "|LTnl36-0-zU|After Hours: 6 Mo...| 379817.0|14096.0|   323.0|       1338.0|13.09|0.9775990013177058|                  44|                  49|\n",
            "|oDIDZ9EmQfA|Jumping Through I...|1424830.0|54077.0|  1848.0|       4710.0|15.09|0.9669557443004023|                  77|                  32|\n",
            "|oDIDZ9EmQfA|Jumping Through I...|1180879.0|47871.0|  1640.0|       4295.0|14.09|0.9668760477469653|                  77|                  32|\n",
            "|oDIDZ9EmQfA|Jumping Through I...| 796896.0|39791.0|  1252.0|       3868.0|13.09|0.9694954072558049|                  77|                  32|\n",
            "|X7ld45pUueQ|CHECK DESCRIPTION...|2333602.0| 4894.0|   940.0|        445.0|14.09|0.8388755570791909|                  53|                  45|\n",
            "+-----------+--------------------+---------+-------+--------+-------------+-----+------------------+--------------------+--------------------+\n",
            "only showing top 20 rows\n",
            "\n"
          ],
          "name": "stdout"
        }
      ]
    },
    {
      "cell_type": "code",
      "metadata": {
        "colab": {
          "base_uri": "https://localhost:8080/"
        },
        "id": "IhrsHueLksnU",
        "outputId": "d9742ec3-24fe-450c-b56a-b20864c3aa81"
      },
      "source": [
        "videoDataDF = videoDataDF.withColumn('positiveCommentRatio', videoDataDF.PositiveCommentCount / (videoDataDF.PositiveCommentCount + videoDataDF.NegativeCommentCount))\n",
        "\n",
        "videoDataDF.show()"
      ],
      "execution_count": null,
      "outputs": [
        {
          "output_type": "stream",
          "text": [
            "+-----------+--------------------+---------+-------+--------+-------------+-----+------------------+--------------------+--------------------+--------------------+\n",
            "|   video_id|               title|    views|  likes|dislikes|comment_total| date|         likeRatio|PositiveCommentCount|NegativeCommentCount|positiveCommentRatio|\n",
            "+-----------+--------------------+---------+-------+--------+-------------+-----+------------------+--------------------+--------------------+--------------------+\n",
            "|mGqR9sgMIyA|Orlando braces fo...|  25652.0|   73.0|    11.0|         62.0|13.09|0.8690476190476191|                   8|                  16|  0.3333333333333333|\n",
            "|a7Sf_H2cFdM|Drowning for Powe...| 971242.0|26435.0|   748.0|       1055.0|15.09|0.9724828017510945|                  76|                  33|  0.6972477064220184|\n",
            "|a7Sf_H2cFdM|Drowning for Powe...| 947706.0|25968.0|   741.0|       1139.0|14.09|0.9722565427384028|                  76|                  33|  0.6972477064220184|\n",
            "|a7Sf_H2cFdM|Drowning for Powe...| 917643.0|25456.0|   731.0|       1073.0|13.09|0.9720853858784894|                  76|                  33|  0.6972477064220184|\n",
            "|1L7JFN7tQLs|iPhone X + iPhone...| 868054.0|24364.0|   976.0|       4644.0|15.09| 0.961483820047356|                 124|                 115|  0.5188284518828452|\n",
            "|1L7JFN7tQLs|iPhone X Hands on...| 751902.0|22556.0|   870.0|       4638.0|14.09| 0.962861777512166|                 124|                 115|  0.5188284518828452|\n",
            "|1L7JFN7tQLs|iPhone X Hands on...| 514972.0|18936.0|   641.0|       3817.0|13.09|0.9672574960412729|                 124|                 115|  0.5188284518828452|\n",
            "|zTjcPeb2Gwg|IM GONNA BE A FAT...| 999412.0|29142.0|   616.0|       6399.0|15.09|0.9792996841185564|                  37|                  44|  0.4567901234567901|\n",
            "|zTjcPeb2Gwg|IM GONNA BE A FAT...| 892442.0|27575.0|   554.0|       6161.0|14.09|0.9803050232855771|                  37|                  44|  0.4567901234567901|\n",
            "|zTjcPeb2Gwg|IM GONNA BE A FAT...| 807779.0|26521.0|   522.0|       5996.0|13.09|0.9806974078319713|                  37|                  44|  0.4567901234567901|\n",
            "|k9bYO7uSnrg|   iPhone X hands on|  14577.0|  160.0|    19.0|         51.0|13.09|0.8938547486033519|                  11|                  12|  0.4782608695652174|\n",
            "|WYYvHb03Eog|Apple iPhone X fi...|4257519.0|33617.0|  6882.0|      18323.0|15.09|0.8300698782685992|                 107|                  76|  0.5846994535519126|\n",
            "|WYYvHb03Eog|Apple iPhone X fi...|3654879.0|30836.0|  6101.0|      16713.0|14.09| 0.834826867368763|                 107|                  76|  0.5846994535519126|\n",
            "|WYYvHb03Eog|Apple iPhone X fi...|2642103.0|24975.0|  4542.0|      12829.0|13.09|0.8461225734322594|                 107|                  76|  0.5846994535519126|\n",
            "|LTnl36-0-zU|After Hours: 6 Mo...| 410406.0|14671.0|   344.0|       1407.0|14.09|0.9770895770895771|                  44|                  49|  0.4731182795698925|\n",
            "|LTnl36-0-zU|After Hours: 6 Mo...| 379817.0|14096.0|   323.0|       1338.0|13.09|0.9775990013177058|                  44|                  49|  0.4731182795698925|\n",
            "|oDIDZ9EmQfA|Jumping Through I...|1424830.0|54077.0|  1848.0|       4710.0|15.09|0.9669557443004023|                  77|                  32|  0.7064220183486238|\n",
            "|oDIDZ9EmQfA|Jumping Through I...|1180879.0|47871.0|  1640.0|       4295.0|14.09|0.9668760477469653|                  77|                  32|  0.7064220183486238|\n",
            "|oDIDZ9EmQfA|Jumping Through I...| 796896.0|39791.0|  1252.0|       3868.0|13.09|0.9694954072558049|                  77|                  32|  0.7064220183486238|\n",
            "|X7ld45pUueQ|CHECK DESCRIPTION...|2333602.0| 4894.0|   940.0|        445.0|14.09|0.8388755570791909|                  53|                  45|  0.5408163265306123|\n",
            "+-----------+--------------------+---------+-------+--------+-------------+-----+------------------+--------------------+--------------------+--------------------+\n",
            "only showing top 20 rows\n",
            "\n"
          ],
          "name": "stdout"
        }
      ]
    },
    {
      "cell_type": "markdown",
      "metadata": {
        "id": "KDOxrpypy-xV"
      },
      "source": [
        "# Analysis: Positive Comment Ratio"
      ]
    },
    {
      "cell_type": "code",
      "metadata": {
        "colab": {
          "base_uri": "https://localhost:8080/"
        },
        "id": "KzbAC3dzRBwk",
        "outputId": "9d7dbb5c-b35a-4f71-ebf7-9f16e8bae89e"
      },
      "source": [
        "visualizationDF = videoDataDF.toPandas()"
      ],
      "execution_count": null,
      "outputs": [
        {
          "output_type": "stream",
          "text": [
            "/usr/local/lib/python3.6/dist-packages/pyarrow/__init__.py:157: UserWarning: pyarrow.open_stream is deprecated, please use pyarrow.ipc.open_stream\n",
            "  warnings.warn(\"pyarrow.open_stream is deprecated, please use \"\n"
          ],
          "name": "stderr"
        }
      ]
    },
    {
      "cell_type": "code",
      "metadata": {
        "colab": {
          "base_uri": "https://localhost:8080/",
          "height": 278
        },
        "id": "e8m98tTJRA6F",
        "outputId": "8b8de7d8-2212-4d37-b981-da43aaa63381"
      },
      "source": [
        "#ax = visualizationDF.plot.scatter(x='views', y='positiveCommentRatio')\n",
        "\n",
        "\n",
        "\n",
        "x = visualizationDF['views']\n",
        "y = visualizationDF['positiveCommentRatio']\n",
        "plt.scatter(x, y)\n",
        "\n",
        "z = np.polyfit(x, y, 1)\n",
        "p = np.poly1d(z)\n",
        "plt.plot(x,p(x),\"r--\")\n",
        "\n",
        "plt.show()"
      ],
      "execution_count": null,
      "outputs": [
        {
          "output_type": "display_data",
          "data": {
            "image/png": "[encoded data removed]",
            "text/plain": [
              "<Figure size 432x288 with 1 Axes>"
            ]
          },
          "metadata": {
            "tags": [],
            "needs_background": "light"
          }
        }
      ]
    },
    {
      "cell_type": "code",
      "metadata": {
        "id": "DlYrvxKTVfVf",
        "colab": {
          "base_uri": "https://localhost:8080/",
          "height": 265
        },
        "outputId": "4f38995e-9b6c-4225-e745-11f69f5450ac"
      },
      "source": [
        "#ax = visualizationDF.plot.scatter(x='likeRatio', y='positiveCommentRatio')\n",
        "\n",
        "x = visualizationDF['likeRatio']\n",
        "y = visualizationDF['positiveCommentRatio']\n",
        "plt.scatter(x, y)\n",
        "\n",
        "z = np.polyfit(x, y, 1)\n",
        "p = np.poly1d(z)\n",
        "plt.plot(x,p(x),\"r--\")\n",
        "\n",
        "plt.show()"
      ],
      "execution_count": null,
      "outputs": [
        {
          "output_type": "display_data",
          "data": {
            "image/png": "[encoded data removed]",
            "text/plain": [
              "<Figure size 432x288 with 1 Axes>"
            ]
          },
          "metadata": {
            "tags": [],
            "needs_background": "light"
          }
        }
      ]
    },
    {
      "cell_type": "code",
      "metadata": {
        "id": "3yGObagcxA4L"
      },
      "source": [
        "dropColumns = ['video_id', 'title', 'PositiveCommentCount', 'NegativeCommentCount']\n",
        "ratioDF = videoDataDF.drop(*dropColumns)\n",
        "ratioDF = ratioDF.where('views < 1000000')"
      ],
      "execution_count": null,
      "outputs": []
    },
    {
      "cell_type": "code",
      "metadata": {
        "id": "o0iMsOqkuA8V",
        "colab": {
          "base_uri": "https://localhost:8080/"
        },
        "outputId": "c3aabe51-e556-41b0-d3d1-90af6008060d"
      },
      "source": [
        "pandasVideoDataDf = ratioDF.toPandas()"
      ],
      "execution_count": null,
      "outputs": [
        {
          "output_type": "stream",
          "text": [
            "/usr/local/lib/python3.6/dist-packages/pyarrow/__init__.py:157: UserWarning: pyarrow.open_stream is deprecated, please use pyarrow.ipc.open_stream\n",
            "  warnings.warn(\"pyarrow.open_stream is deprecated, please use \"\n"
          ],
          "name": "stderr"
        }
      ]
    },
    {
      "cell_type": "code",
      "metadata": {
        "id": "F-xwCfefSITM",
        "colab": {
          "base_uri": "https://localhost:8080/",
          "height": 330
        },
        "outputId": "bb4d3f0a-6dc3-4c40-ff9e-d0dddd095298"
      },
      "source": [
        "pandasVideoDataDf.hist(column='views')"
      ],
      "execution_count": null,
      "outputs": [
        {
          "output_type": "execute_result",
          "data": {
            "text/plain": [
              "array([[<matplotlib.axes._subplots.AxesSubplot object at 0x7ff0e7efac18>]],\n",
              "      dtype=object)"
            ]
          },
          "metadata": {
            "tags": []
          },
          "execution_count": 34
        },
        {
          "output_type": "display_data",
          "data": {
            "image/png": "[encoded data removed]",
            "text/plain": [
              "<Figure size 432x288 with 1 Axes>"
            ]
          },
          "metadata": {
            "tags": [],
            "needs_background": "light"
          }
        }
      ]
    },
    {
      "cell_type": "code",
      "metadata": {
        "id": "ox0SomcjIQdB",
        "colab": {
          "base_uri": "https://localhost:8080/"
        },
        "outputId": "556ca291-9f85-463c-e4b6-c8b385cf091a"
      },
      "source": [
        "print(pandasVideoDataDf)"
      ],
      "execution_count": null,
      "outputs": [
        {
          "output_type": "stream",
          "text": [
            "        views    likes  dislikes  ...   date  likeRatio  positiveCommentRatio\n",
            "0     25652.0     73.0      11.0  ...  13.09   0.869048              0.333333\n",
            "1    971242.0  26435.0     748.0  ...  15.09   0.972483              0.697248\n",
            "2    947706.0  25968.0     741.0  ...  14.09   0.972257              0.697248\n",
            "3    917643.0  25456.0     731.0  ...  13.09   0.972085              0.697248\n",
            "4    868054.0  24364.0     976.0  ...  15.09   0.961484              0.518828\n",
            "..        ...      ...       ...  ...    ...        ...                   ...\n",
            "272    8692.0    340.0      16.0  ...  13.09   0.955056              0.772727\n",
            "273   19468.0     87.0       2.0  ...  14.09   0.977528              1.000000\n",
            "274   19431.0     87.0       2.0  ...  13.09   0.977528              1.000000\n",
            "275  829793.0   6501.0     386.0  ...  14.09   0.943952              0.626168\n",
            "276  743947.0   6126.0     352.0  ...  13.09   0.945662              0.626168\n",
            "\n",
            "[277 rows x 7 columns]\n"
          ],
          "name": "stdout"
        }
      ]
    },
    {
      "cell_type": "code",
      "metadata": {
        "id": "hHzdQZW-v68Y"
      },
      "source": [
        "# Use numpy to convert to arrays\n",
        "\n",
        "\n",
        "# Labels are the values we want to predict\n",
        "labels = np.array(pandasVideoDataDf['positiveCommentRatio'])\n",
        "\n",
        "# Remove the labels from the features\n",
        "# axis 1 refers to the columns\n",
        "features = pandasVideoDataDf.drop('positiveCommentRatio', axis = 1)\n",
        "\n",
        "# Saving feature names for later use\n",
        "videoData_list = list(features.columns)\n",
        "\n",
        "# Convert to numpy array\n",
        "features = np.array(features)"
      ],
      "execution_count": null,
      "outputs": []
    },
    {
      "cell_type": "code",
      "metadata": {
        "id": "JigRHIQrId8s",
        "colab": {
          "base_uri": "https://localhost:8080/"
        },
        "outputId": "5eab4673-2589-4e45-f6df-717de6474999"
      },
      "source": [
        "print(videoData_list)"
      ],
      "execution_count": null,
      "outputs": [
        {
          "output_type": "stream",
          "text": [
            "['views', 'likes', 'dislikes', 'comment_total', 'date', 'likeRatio']\n"
          ],
          "name": "stdout"
        }
      ]
    },
    {
      "cell_type": "code",
      "metadata": {
        "id": "PGqCbyl5woIR"
      },
      "source": [
        "# Using Skicit-learn to split data into training and testing sets\n",
        "from sklearn.model_selection import train_test_split\n",
        "# Split the data into training and testing sets\n",
        "train_features, test_features, train_labels, test_labels = train_test_split(features, labels, test_size = 0.25, random_state = 42)"
      ],
      "execution_count": null,
      "outputs": []
    },
    {
      "cell_type": "code",
      "metadata": {
        "id": "awHp1fYuxn0F",
        "colab": {
          "base_uri": "https://localhost:8080/"
        },
        "outputId": "8a25091e-284f-4089-894d-68c3368bc073"
      },
      "source": [
        "print('Training Features Shape:', train_features.shape)\n",
        "print('Training Labels Shape:', train_labels.shape)\n",
        "print('Testing Features Shape:', test_features.shape)\n",
        "print('Testing Labels Shape:', test_labels.shape)"
      ],
      "execution_count": null,
      "outputs": [
        {
          "output_type": "stream",
          "text": [
            "Training Features Shape: (207, 6)\n",
            "Training Labels Shape: (207,)\n",
            "Testing Features Shape: (70, 6)\n",
            "Testing Labels Shape: (70,)\n"
          ],
          "name": "stdout"
        }
      ]
    },
    {
      "cell_type": "code",
      "metadata": {
        "id": "Te8vSssTxwlj"
      },
      "source": [
        "# Import the model we are using\n",
        "from sklearn.ensemble import RandomForestRegressor\n",
        "\n",
        "# Instantiate model with 1000 decision trees\n",
        "rf = RandomForestRegressor(n_estimators = 1000, random_state = 42)\n",
        "\n",
        "# Train the model on training data\n",
        "rf.fit(train_features, train_labels);"
      ],
      "execution_count": null,
      "outputs": []
    },
    {
      "cell_type": "code",
      "metadata": {
        "id": "cdLL946Ux4J6",
        "colab": {
          "base_uri": "https://localhost:8080/"
        },
        "outputId": "f454fff1-3176-48ae-cc76-91e329917db8"
      },
      "source": [
        "# Use the forest's predict method on the test data\n",
        "predictions = rf.predict(test_features)\n",
        "\n",
        "# Calculate the absolute errors\n",
        "errors = abs(predictions - test_labels)\n",
        "\n",
        "# Print out the mean absolute error (mae)\n",
        "print('Mean Absolute Error:', round(np.mean(errors), 2))"
      ],
      "execution_count": null,
      "outputs": [
        {
          "output_type": "stream",
          "text": [
            "Mean Absolute Error: 0.08\n"
          ],
          "name": "stdout"
        }
      ]
    },
    {
      "cell_type": "code",
      "metadata": {
        "id": "lcA8fRuPJGqA",
        "colab": {
          "base_uri": "https://localhost:8080/"
        },
        "outputId": "f1155281-39c2-4714-89a8-55b2f8c4b3a0"
      },
      "source": [
        "print(test_labels)"
      ],
      "execution_count": null,
      "outputs": [
        {
          "output_type": "stream",
          "text": [
            "[0.7238806  0.73043478 0.67045455 0.53736655 0.46846847 0.5\n",
            " 0.43548387 0.48863636 0.53488372 0.49586777 0.57       0.8\n",
            " 0.70754717 0.53608247 0.77272727 0.55172414 0.52747253 0.40217391\n",
            " 0.36842105 0.73275862 0.7109375  0.53191489 0.60416667 0.51041667\n",
            " 1.         0.38095238 0.76282051 0.63953488 0.45679012 0.\n",
            " 0.36363636 0.75       0.48387097 0.51612903 0.60606061 0.43333333\n",
            " 0.42857143 0.55462185 0.51882845 0.66666667 0.5483871  0.57142857\n",
            " 0.56666667 0.62626263 0.73043478 0.38095238 0.56937799 0.76282051\n",
            " 0.40196078 0.47393365 0.75238095 0.55882353 0.64583333 0.5754717\n",
            " 0.58333333 0.47826087 0.64583333 0.52727273 0.51041667 0.55102041\n",
            " 0.55462185 0.58898305 0.5210084  0.54736842 0.50515464 0.55645161\n",
            " 0.59130435 0.56666667 0.69465649 0.55882353]\n"
          ],
          "name": "stdout"
        }
      ]
    },
    {
      "cell_type": "code",
      "metadata": {
        "id": "ZpBMI1KSx_yA",
        "colab": {
          "base_uri": "https://localhost:8080/"
        },
        "outputId": "6c73fb25-539e-4bbb-d111-fa7f522fd909"
      },
      "source": [
        "# Calculate mean absolute percentage error (MAPE)\n",
        "mape = 100 * (errors / test_labels)\n",
        "\n",
        "# Calculate and display accuracy\n",
        "accuracy = 100 - np.mean(mape[np.isfinite(mape)])\n",
        "\n",
        "print('Accuracy:', round(accuracy, 2), '%.')"
      ],
      "execution_count": null,
      "outputs": [
        {
          "output_type": "stream",
          "text": [
            "Accuracy: 87.75 %.\n"
          ],
          "name": "stdout"
        },
        {
          "output_type": "stream",
          "text": [
            "/usr/local/lib/python3.6/dist-packages/ipykernel_launcher.py:2: RuntimeWarning: divide by zero encountered in true_divide\n",
            "  \n"
          ],
          "name": "stderr"
        }
      ]
    },
    {
      "cell_type": "code",
      "metadata": {
        "id": "jsPMEV8FHmiu"
      },
      "source": [
        "# Import tools needed for visualization\n",
        "from sklearn.tree import export_graphviz\n",
        "import pydot# Pull out one tree from the forest\n",
        "tree = rf.estimators_[6]# Import tools needed for visualization\n",
        "from sklearn.tree import export_graphviz\n",
        "import pydot# Pull out one tree from the forest\n",
        "tree = rf.estimators_[6]# Export the image to a dot file\n",
        "export_graphviz(tree, out_file = 'tree.dot', feature_names = videoData_list, rounded = True, precision = 1)# Use dot file to create a graph\n",
        "(graph, ) = pydot.graph_from_dot_file('tree.dot')# Write graph to a png file\n",
        "graph.write_png('tree.png')"
      ],
      "execution_count": null,
      "outputs": []
    },
    {
      "cell_type": "code",
      "metadata": {
        "id": "B9bjLEqoMI6D",
        "colab": {
          "base_uri": "https://localhost:8080/"
        },
        "outputId": "7fac7e75-d65e-4b0e-c6c0-58a26857d2e1"
      },
      "source": [
        "# Get numerical feature importances\n",
        "importances = list(rf.feature_importances_)# List of tuples with variable and importance\n",
        "feature_importances = [(feature, round(importance, 2)) for feature, importance in zip(videoData_list, importances)]# Sort the feature importances by most important first\n",
        "feature_importances = sorted(feature_importances, key = lambda x: x[1], reverse = True)# Print out the feature and importances \n",
        "[print('Variable: {:20} Importance: {}'.format(*pair)) for pair in feature_importances];"
      ],
      "execution_count": null,
      "outputs": [
        {
          "output_type": "stream",
          "text": [
            "Variable: likes                Importance: 0.28\n",
            "Variable: comment_total        Importance: 0.26\n",
            "Variable: likeRatio            Importance: 0.18\n",
            "Variable: views                Importance: 0.15\n",
            "Variable: dislikes             Importance: 0.12\n",
            "Variable: date                 Importance: 0.01\n"
          ],
          "name": "stdout"
        }
      ]
    },
    {
      "cell_type": "code",
      "metadata": {
        "id": "dhQez3WnMeOj",
        "colab": {
          "base_uri": "https://localhost:8080/"
        },
        "outputId": "aa84aa4d-a4d6-4afe-d7af-d0a4b1c1f42a"
      },
      "source": [
        "# New random forest with only the two most important variables\n",
        "rf_most_important = RandomForestRegressor(n_estimators= 1000, random_state=42)# Extract the most important features\n",
        "important_indices = [videoData_list.index('comment_total'), videoData_list.index('dislikes'), videoData_list.index('likes'), videoData_list.index('likeRatio'), videoData_list.index('views')]\n",
        "train_important = train_features[:, important_indices]\n",
        "test_important = test_features[:, important_indices]# Train the random forest\n",
        "rf_most_important.fit(train_important, train_labels)# Make predictions and determine the error\n",
        "predictions = rf_most_important.predict(test_important)\n",
        "errors = abs(predictions - test_labels)# Display the performance metrics\n",
        "print('Mean Absolute Error:', round(np.mean(errors), 2), 'views.')\n",
        "mape = 100 * (errors / test_labels)\n",
        "accuracy = 100 - np.mean(mape[np.isfinite(mape)])\n",
        "print('Accuracy:', round(accuracy, 2), '%.')"
      ],
      "execution_count": null,
      "outputs": [
        {
          "output_type": "stream",
          "text": [
            "Mean Absolute Error: 0.07 views.\n",
            "Accuracy: 88.07 %.\n"
          ],
          "name": "stdout"
        },
        {
          "output_type": "stream",
          "text": [
            "/usr/local/lib/python3.6/dist-packages/ipykernel_launcher.py:10: RuntimeWarning: divide by zero encountered in true_divide\n",
            "  # Remove the CWD from sys.path while we load stuff.\n"
          ],
          "name": "stderr"
        }
      ]
    },
    {
      "cell_type": "code",
      "metadata": {
        "id": "RfWNMHGENCmV",
        "colab": {
          "base_uri": "https://localhost:8080/",
          "height": 416
        },
        "outputId": "8655c3fb-dfad-42c6-dd2c-0ec11fe96965"
      },
      "source": [
        "# Import matplotlib for plotting and use magic command for Jupyter Notebooks\n",
        "import matplotlib.pyplot as plt\n",
        "\n",
        "%matplotlib inline \n",
        "\n",
        "# Set the style\n",
        "plt.style.use('fivethirtyeight')\n",
        "\n",
        "# list of x locations for plotting\n",
        "x_values = list(range(len(importances)))\n",
        "\n",
        "# Make a bar chart\n",
        "plt.bar(x_values, importances, orientation = 'vertical')\n",
        "\n",
        "# Tick labels for x axis\n",
        "plt.xticks(x_values, videoData_list, rotation='vertical')\n",
        "\n",
        "# Axis labels and title\n",
        "plt.ylabel('Importance'); plt.xlabel('Variable'); plt.title('Variable Importances');"
      ],
      "execution_count": null,
      "outputs": [
        {
          "output_type": "display_data",
          "data": {
            "image/png": "[encoded data removed]",
            "text/plain": [
              "<Figure size 432x288 with 1 Axes>"
            ]
          },
          "metadata": {
            "tags": []
          }
        }
      ]
    },
    {
      "cell_type": "markdown",
      "metadata": {
        "id": "-CxeztkQ1fmQ"
      },
      "source": [
        "# Analysis: Views"
      ]
    },
    {
      "cell_type": "code",
      "metadata": {
        "id": "kULDdIdj1sgl"
      },
      "source": [
        "dropColumns = ['video_id', 'title']\n",
        "viewsDF = videoDataDF.drop(*dropColumns)\n",
        "viewsDF = viewsDF.where('views < 500000')"
      ],
      "execution_count": null,
      "outputs": []
    },
    {
      "cell_type": "code",
      "metadata": {
        "id": "39KtYmvr1yGA",
        "colab": {
          "base_uri": "https://localhost:8080/"
        },
        "outputId": "5c179a6d-fd33-4ec5-dc41-daca0da8b60e"
      },
      "source": [
        "pandasVideoDataDf = viewsDF.toPandas()"
      ],
      "execution_count": null,
      "outputs": [
        {
          "output_type": "stream",
          "text": [
            "/usr/local/lib/python3.6/dist-packages/pyarrow/__init__.py:157: UserWarning: pyarrow.open_stream is deprecated, please use pyarrow.ipc.open_stream\n",
            "  warnings.warn(\"pyarrow.open_stream is deprecated, please use \"\n"
          ],
          "name": "stderr"
        }
      ]
    },
    {
      "cell_type": "code",
      "metadata": {
        "id": "I2Ve6FoC12av"
      },
      "source": [
        "# Labels are the values we want to predict\n",
        "labels = np.array(pandasVideoDataDf['views'])\n",
        "\n",
        "# Remove the labels from the features\n",
        "# axis 1 refers to the columns\n",
        "features = pandasVideoDataDf.drop('views', axis = 1)\n",
        "\n",
        "# Saving feature names for later use\n",
        "videoData_list = list(features.columns)\n",
        "\n",
        "# Convert to numpy array\n",
        "features = np.array(features)"
      ],
      "execution_count": null,
      "outputs": []
    },
    {
      "cell_type": "code",
      "metadata": {
        "id": "uQKUELbY2BBu"
      },
      "source": [
        "train_features, test_features, train_labels, test_labels = train_test_split(features, labels, test_size = 0.25, random_state = 42)"
      ],
      "execution_count": null,
      "outputs": []
    },
    {
      "cell_type": "code",
      "metadata": {
        "id": "hb6MwMmO2KyH",
        "colab": {
          "base_uri": "https://localhost:8080/"
        },
        "outputId": "47a34f87-c5f8-40dd-9b7d-796e46183894"
      },
      "source": [
        "print('Training Features Shape:', train_features.shape)\n",
        "print('Training Labels Shape:', train_labels.shape)\n",
        "print('Testing Features Shape:', test_features.shape)\n",
        "print('Testing Labels Shape:', test_labels.shape)"
      ],
      "execution_count": null,
      "outputs": [
        {
          "output_type": "stream",
          "text": [
            "Training Features Shape: (162, 8)\n",
            "Training Labels Shape: (162,)\n",
            "Testing Features Shape: (55, 8)\n",
            "Testing Labels Shape: (55,)\n"
          ],
          "name": "stdout"
        }
      ]
    },
    {
      "cell_type": "code",
      "metadata": {
        "id": "vwQIlVQU2Nhx"
      },
      "source": [
        "# Instantiate model with 1000 decision trees\n",
        "rf = RandomForestRegressor(n_estimators = 1000, random_state = 42)\n",
        "\n",
        "# Train the model on training data\n",
        "rf.fit(train_features, train_labels);"
      ],
      "execution_count": null,
      "outputs": []
    },
    {
      "cell_type": "code",
      "metadata": {
        "id": "QKyVL8Hx2R4J",
        "colab": {
          "base_uri": "https://localhost:8080/"
        },
        "outputId": "90aa9596-ce6c-4ee6-9647-65435e276b92"
      },
      "source": [
        "# Use the forest's predict method on the test data\n",
        "predictions = rf.predict(test_features)\n",
        "\n",
        "# Calculate the absolute errors\n",
        "errors = abs(predictions - test_labels)\n",
        "\n",
        "# Print out the mean absolute error (mae)\n",
        "print('Mean Absolute Error:', round(np.mean(errors), 2))"
      ],
      "execution_count": null,
      "outputs": [
        {
          "output_type": "stream",
          "text": [
            "Mean Absolute Error: 44495.11\n"
          ],
          "name": "stdout"
        }
      ]
    },
    {
      "cell_type": "code",
      "metadata": {
        "id": "1dIa8k_k2VQB",
        "colab": {
          "base_uri": "https://localhost:8080/"
        },
        "outputId": "2f7f7fa5-2e1e-4f76-9cf6-f022d0d6e27f"
      },
      "source": [
        "print(test_labels)"
      ],
      "execution_count": null,
      "outputs": [
        {
          "output_type": "stream",
          "text": [
            "[ 59907.   8692.  96468. 447037. 433708. 273256.  16296. 406327.  48688.\n",
            "  92656. 413029.  43199. 196016. 482681. 396083.  74494. 352284. 316616.\n",
            " 220661. 216040.  54261. 150257.  91229. 396448. 416462. 431464. 352810.\n",
            " 264911. 381229. 232505. 452477.  92783. 260164. 384682. 246389. 213820.\n",
            " 108653. 342410. 279903.   7740. 229636. 122462. 310292. 111295. 222206.\n",
            " 231371. 255967. 258781.  10892. 480279. 244433. 320880.  11830. 200970.\n",
            " 165684.]\n"
          ],
          "name": "stdout"
        }
      ]
    },
    {
      "cell_type": "code",
      "metadata": {
        "id": "RsnUB_Pf2XgX",
        "colab": {
          "base_uri": "https://localhost:8080/"
        },
        "outputId": "4c960b20-5060-4f07-ee6c-aa8ed90196a0"
      },
      "source": [
        "# Calculate mean absolute percentage error (MAPE)\n",
        "mape = 100 * (errors / test_labels)\n",
        "\n",
        "# Calculate and display accuracy\n",
        "accuracy = 100 - np.mean(mape[np.isfinite(mape)])\n",
        "\n",
        "print('Accuracy:', round(accuracy, 2), '%.')"
      ],
      "execution_count": null,
      "outputs": [
        {
          "output_type": "stream",
          "text": [
            "Accuracy: 65.43 %.\n"
          ],
          "name": "stdout"
        }
      ]
    },
    {
      "cell_type": "code",
      "metadata": {
        "id": "MPkemF0H2aS2"
      },
      "source": [
        "tree = rf.estimators_[5]# Export the image to a dot file\n",
        "export_graphviz(tree, out_file = 'tree.dot', feature_names = videoData_list, rounded = True, precision = 1)# Use dot file to create a graph\n",
        "(graph, ) = pydot.graph_from_dot_file('tree.dot')# Write graph to a png file\n",
        "graph.write_png('tree.png')"
      ],
      "execution_count": null,
      "outputs": []
    },
    {
      "cell_type": "code",
      "metadata": {
        "id": "Vipex1RD2etA",
        "colab": {
          "base_uri": "https://localhost:8080/"
        },
        "outputId": "5cbdbee3-f42c-46c8-d920-1163205f0a67"
      },
      "source": [
        "# Get numerical feature importances\n",
        "importances = list(rf.feature_importances_)# List of tuples with variable and importance\n",
        "feature_importances = [(feature, round(importance, 2)) for feature, importance in zip(videoData_list, importances)]# Sort the feature importances by most important first\n",
        "feature_importances = sorted(feature_importances, key = lambda x: x[1], reverse = True)# Print out the feature and importances \n",
        "[print('Variable: {:20} Importance: {}'.format(*pair)) for pair in feature_importances];"
      ],
      "execution_count": null,
      "outputs": [
        {
          "output_type": "stream",
          "text": [
            "Variable: dislikes             Importance: 0.48\n",
            "Variable: comment_total        Importance: 0.2\n",
            "Variable: likes                Importance: 0.14\n",
            "Variable: positiveCommentRatio Importance: 0.06\n",
            "Variable: PositiveCommentCount Importance: 0.05\n",
            "Variable: likeRatio            Importance: 0.04\n",
            "Variable: NegativeCommentCount Importance: 0.03\n",
            "Variable: date                 Importance: 0.01\n"
          ],
          "name": "stdout"
        }
      ]
    },
    {
      "cell_type": "code",
      "metadata": {
        "id": "gnA5TT4F2iMX",
        "colab": {
          "base_uri": "https://localhost:8080/"
        },
        "outputId": "f06a1393-8cc9-4326-afed-b593baab7685"
      },
      "source": [
        "# New random forest with only the two most important variables\n",
        "rf_most_important = RandomForestRegressor(n_estimators= 1000, random_state=42)# Extract the two most important features\n",
        "\n",
        "##CHANGE\n",
        "important_indices = [videoData_list.index('likes'), videoData_list.index('dislikes'), videoData_list.index('comment_total')]\n",
        "##CHANGE ^^^^^^^^^^^^^^^^^\n",
        "\n",
        "train_important = train_features[:, important_indices]\n",
        "test_important = test_features[:, important_indices]# Train the random forest\n",
        "rf_most_important.fit(train_important, train_labels)# Make predictions and determine the error\n",
        "predictions = rf_most_important.predict(test_important)\n",
        "errors = abs(predictions - test_labels)# Display the performance metrics\n",
        "print('Mean Absolute Error:', round(np.mean(errors), 2), 'views.')\n",
        "mape = 100 * (errors / test_labels)\n",
        "accuracy = 100 - np.mean(mape[np.isfinite(mape)])\n",
        "print('Accuracy:', round(accuracy, 2), '%.')"
      ],
      "execution_count": null,
      "outputs": [
        {
          "output_type": "stream",
          "text": [
            "Mean Absolute Error: 53942.4 views.\n",
            "Accuracy: 62.32 %.\n"
          ],
          "name": "stdout"
        }
      ]
    },
    {
      "cell_type": "code",
      "metadata": {
        "id": "8GLMXkDm2odY",
        "colab": {
          "base_uri": "https://localhost:8080/",
          "height": 484
        },
        "outputId": "57ce6295-bea2-463a-8653-1aa3fb936956"
      },
      "source": [
        "# Import matplotlib for plotting and use magic command for Jupyter Notebooks\n",
        "import matplotlib.pyplot as plt\n",
        "\n",
        "%matplotlib inline \n",
        "\n",
        "# Set the style\n",
        "plt.style.use('fivethirtyeight')\n",
        "\n",
        "# list of x locations for plotting\n",
        "x_values = list(range(len(importances)))\n",
        "\n",
        "# Make a bar chart\n",
        "plt.bar(x_values, importances, orientation = 'vertical')\n",
        "\n",
        "# Tick labels for x axis\n",
        "plt.xticks(x_values, videoData_list, rotation='vertical')\n",
        "\n",
        "# Axis labels and title\n",
        "plt.ylabel('Importance'); plt.xlabel('Variable'); plt.title('Variable Importances');"
      ],
      "execution_count": null,
      "outputs": [
        {
          "output_type": "display_data",
          "data": {
            "image/png": "[encoded data removed]",
            "text/plain": [
              "<Figure size 432x288 with 1 Axes>"
            ]
          },
          "metadata": {
            "tags": []
          }
        }
      ]
    },
    {
      "cell_type": "markdown",
      "metadata": {
        "id": "Qo7gJfln5jMy"
      },
      "source": [
        "# Transcript Code - Not Used"
      ]
    },
    {
      "cell_type": "code",
      "metadata": {
        "id": "BdGMD5Yn3NKp",
        "colab": {
          "base_uri": "https://localhost:8080/"
        },
        "outputId": "c992673f-c051-4f1e-e952-ea1e89dfbed3"
      },
      "source": [
        "!pip install download-youtube-subtitle\n",
        "import download_youtube_subtitle.common as common\n",
        "import download_youtube_subtitle.main as download_youtube_subtitle"
      ],
      "execution_count": null,
      "outputs": [
        {
          "output_type": "stream",
          "text": [
            "Collecting download-youtube-subtitle\n",
            "  Downloading https://files.pythonhosted.org/packages/0d/04/88d5e53d1aa9b887efb41c0aa8767de536bcbf6470413c93184098b52c63/download-youtube-subtitle-1.0.2.tar.gz\n",
            "Collecting fire\n",
            "\u001b[?25l  Downloading https://files.pythonhosted.org/packages/34/a7/0e22e70778aca01a52b9c899d9c145c6396d7b613719cd63db97ffa13f2f/fire-0.3.1.tar.gz (81kB)\n",
            "\u001b[K     |████████████████████████████████| 81kB 3.5MB/s \n",
            "\u001b[?25hRequirement already satisfied: requests in /usr/local/lib/python3.6/dist-packages (from download-youtube-subtitle) (2.23.0)\n",
            "Requirement already satisfied: IPython in /usr/local/lib/python3.6/dist-packages (from download-youtube-subtitle) (5.5.0)\n",
            "Requirement already satisfied: six in /usr/local/lib/python3.6/dist-packages (from fire->download-youtube-subtitle) (1.15.0)\n",
            "Requirement already satisfied: termcolor in /usr/local/lib/python3.6/dist-packages (from fire->download-youtube-subtitle) (1.1.0)\n",
            "Requirement already satisfied: certifi>=2017.4.17 in /usr/local/lib/python3.6/dist-packages (from requests->download-youtube-subtitle) (2020.11.8)\n",
            "Requirement already satisfied: idna<3,>=2.5 in /usr/local/lib/python3.6/dist-packages (from requests->download-youtube-subtitle) (2.10)\n",
            "Requirement already satisfied: urllib3!=1.25.0,!=1.25.1,<1.26,>=1.21.1 in /usr/local/lib/python3.6/dist-packages (from requests->download-youtube-subtitle) (1.24.3)\n",
            "Requirement already satisfied: chardet<4,>=3.0.2 in /usr/local/lib/python3.6/dist-packages (from requests->download-youtube-subtitle) (3.0.4)\n",
            "Requirement already satisfied: simplegeneric>0.8 in /usr/local/lib/python3.6/dist-packages (from IPython->download-youtube-subtitle) (0.8.1)\n",
            "Requirement already satisfied: traitlets>=4.2 in /usr/local/lib/python3.6/dist-packages (from IPython->download-youtube-subtitle) (4.3.3)\n",
            "Requirement already satisfied: pickleshare in /usr/local/lib/python3.6/dist-packages (from IPython->download-youtube-subtitle) (0.7.5)\n",
            "Requirement already satisfied: setuptools>=18.5 in /usr/local/lib/python3.6/dist-packages (from IPython->download-youtube-subtitle) (50.3.2)\n",
            "Requirement already satisfied: prompt-toolkit<2.0.0,>=1.0.4 in /usr/local/lib/python3.6/dist-packages (from IPython->download-youtube-subtitle) (1.0.18)\n",
            "Requirement already satisfied: pexpect; sys_platform != \"win32\" in /usr/local/lib/python3.6/dist-packages (from IPython->download-youtube-subtitle) (4.8.0)\n",
            "Requirement already satisfied: pygments in /usr/local/lib/python3.6/dist-packages (from IPython->download-youtube-subtitle) (2.6.1)\n",
            "Requirement already satisfied: decorator in /usr/local/lib/python3.6/dist-packages (from IPython->download-youtube-subtitle) (4.4.2)\n",
            "Requirement already satisfied: ipython-genutils in /usr/local/lib/python3.6/dist-packages (from traitlets>=4.2->IPython->download-youtube-subtitle) (0.2.0)\n",
            "Requirement already satisfied: wcwidth in /usr/local/lib/python3.6/dist-packages (from prompt-toolkit<2.0.0,>=1.0.4->IPython->download-youtube-subtitle) (0.2.5)\n",
            "Requirement already satisfied: ptyprocess>=0.5 in /usr/local/lib/python3.6/dist-packages (from pexpect; sys_platform != \"win32\"->IPython->download-youtube-subtitle) (0.6.0)\n",
            "Building wheels for collected packages: download-youtube-subtitle, fire\n",
            "  Building wheel for download-youtube-subtitle (setup.py) ... \u001b[?25l\u001b[?25hdone\n",
            "  Created wheel for download-youtube-subtitle: filename=download_youtube_subtitle-1.0.2-cp36-none-any.whl size=8822 sha256=26b198d3ccc727d172aa0aa876be0b2f1c480a4cced8589f1acdcf6308bfccd4\n",
            "  Stored in directory: /root/.cache/pip/wheels/16/56/f4/c7cb883841e067544d88f893bdc95f392c2c0ecc6e5226f305\n",
            "  Building wheel for fire (setup.py) ... \u001b[?25l\u001b[?25hdone\n",
            "  Created wheel for fire: filename=fire-0.3.1-py2.py3-none-any.whl size=111005 sha256=3247db56b95cf53c1711962d862b24ed7f0fa377dcb2c256402ecc49f87cc559\n",
            "  Stored in directory: /root/.cache/pip/wheels/c1/61/df/768b03527bf006b546dce284eb4249b185669e65afc5fbb2ac\n",
            "Successfully built download-youtube-subtitle fire\n",
            "Installing collected packages: fire, download-youtube-subtitle\n",
            "Successfully installed download-youtube-subtitle-1.0.2 fire-0.3.1\n"
          ],
          "name": "stdout"
        }
      ]
    },
    {
      "cell_type": "code",
      "metadata": {
        "id": "QWVNIwFfUmC_"
      },
      "source": [
        "import re\n",
        "def get_valid_filename(s):\n",
        "    s = str(s).strip().replace(' ', '')\n",
        "    return re.sub(r'(?u)[^-\\w.]', '', s)"
      ],
      "execution_count": null,
      "outputs": []
    },
    {
      "cell_type": "code",
      "metadata": {
        "id": "KjKzLRLeF6zt",
        "colab": {
          "base_uri": "https://localhost:8080/"
        },
        "outputId": "d8362946-4957-466e-d74b-78c4de47dd8b"
      },
      "source": [
        "from pyspark.sql import Row\n",
        "import json\n",
        "\n",
        "transcriptDictionary = []\n",
        "\n",
        "for entry in dropDf.collect():\n",
        "  #print(entry['video_id'])\n",
        "  !dl-youtube-cc {entry['video_id']} --translation='en' --to_json=True\n",
        "  cleanName = get_valid_filename(entry['title'])\n",
        "  #print('clean: ', cleanName)\n",
        "  try:\n",
        "    with open('%s.json' % cleanName) as json_file:\n",
        "      transcript = json.load(json_file)\n",
        "\n",
        "      #print(type(transcript))\n",
        "      allText = ''\n",
        "      for tEntry in transcript['translation']:\n",
        "        #print('t:',)\n",
        "\n",
        "      #print(allText)\n",
        "        transcriptDictionary.append({'video_id': entry['video_id'], 'transcriptSnippet': tEntry['text']})\n",
        "  except FileNotFoundError:\n",
        "    allText = 'ERROR'\n",
        "    transcriptDictionary.append({'video_id': entry['video_id'], 'transcript': 'ERROR'})\n",
        "\n",
        "#print(transcriptDictionary)"
      ],
      "execution_count": null,
      "outputs": [
        {
          "output_type": "stream",
          "text": [
            "INFO:  available caption(s) will be displayed as original text:\n",
            "INFO:  ✔ #0. .ar      Arabic\n",
            "INFO:  ⭕ #1. .en      English\n",
            "INFO:  ⭕ #2. a.en     English+(auto-generated) automatically generated by youtube\n",
            "INFO:  ⭕ #3. .pt      Portuguese\n",
            "INFO:  ⭕ #4. .es      Spanish\n",
            "INFO:  ⭕ #5. .ta      Tamil\n",
            "INFO:  ⭕ #6. .tr      Turkish\n",
            "INFO:  ✔ marks chosen one,  given by --caption_num in 0-index, default to 0\n",
            "INFO:  Save to  1YEAROFVLOGGING--HOWLOGANPAULCHANGEDYOUTUBEFOREVER.json\n",
            "INFO:  available caption(s) will be displayed as original text:\n",
            "INFO:  ✔ #0. .sq      Albanian\n",
            "INFO:  ⭕ #1. .ar      Arabic\n",
            "INFO:  ⭕ #2. .az      Azerbaijani\n",
            "INFO:  ⭕ #3. .bn      Bangla\n",
            "INFO:  ⭕ #4. .bg      Bulgarian\n",
            "INFO:  ⭕ #5. .ca      Catalan\n",
            "INFO:  ⭕ #6. .chr     Cherokee\n",
            "INFO:  ⭕ #7. .zh      Chinese\n",
            "INFO:  ⭕ #8. .zh-TW   Chinese+(Taiwan)\n",
            "INFO:  ⭕ #9. .hr      Croatian\n",
            "INFO:  ⭕ #10. .cs      Czech\n",
            "INFO:  ⭕ #11. .da      Danish\n",
            "INFO:  ⭕ #12. .nl      Dutch\n",
            "INFO:  ⭕ #13. .nl-NL   Dutch+(Netherlands)\n",
            "INFO:  ⭕ #14. .en      English\n",
            "INFO:  ⭕ #15. a.en     English+(auto-generated) automatically generated by youtube\n",
            "INFO:  ⭕ #16. .en-GB   English+(United+Kingdom)\n",
            "INFO:  ⭕ #17. .et      Estonian\n",
            "INFO:  ⭕ #18. .fil     Filipino\n",
            "INFO:  ⭕ #19. .fi      Finnish\n",
            "INFO:  ⭕ #20. .fr      French\n",
            "INFO:  ⭕ #21. .fr-FR   French+(France)\n",
            "INFO:  ⭕ #22. .ka      Georgian\n",
            "INFO:  ⭕ #23. .de      German\n",
            "INFO:  ⭕ #24. .de-DE   German+(Germany)\n",
            "INFO:  ⭕ #25. .el      Greek\n",
            "INFO:  ⭕ #26. .iw      Hebrew\n",
            "INFO:  ⭕ #27. .hi      Hindi\n",
            "INFO:  ⭕ #28. .hu      Hungarian\n",
            "INFO:  ⭕ #29. .id      Indonesian\n",
            "INFO:  ⭕ #30. .it      Italian\n",
            "INFO:  ⭕ #31. .ja      Japanese\n",
            "INFO:  ⭕ #32. .ko      Korean\n",
            "INFO:  ⭕ #33. .lv      Latvian\n",
            "INFO:  ⭕ #34. .lt      Lithuanian\n",
            "INFO:  ⭕ #35. .mk      Macedonian\n",
            "INFO:  ⭕ #36. .ms      Malay\n",
            "INFO:  ⭕ #37. .ml      Malayalam\n",
            "INFO:  ⭕ #38. .mi      Maori\n",
            "INFO:  ⭕ #39. .ne      Nepali\n",
            "INFO:  ⭕ #40. .no      Norwegian\n",
            "INFO:  ⭕ #41. .pl      Polish\n",
            "INFO:  ⭕ #42. .pt      Portuguese\n",
            "INFO:  ⭕ #43. .pt-BR   Portuguese+(Brazil)\n",
            "INFO:  ⭕ #44. .pt-PT   Portuguese+(Portugal)\n",
            "INFO:  ⭕ #45. .ro      Romanian\n",
            "INFO:  ⭕ #46. .ru      Russian\n",
            "INFO:  ⭕ #47. .sr      Serbian\n",
            "INFO:  ⭕ #48. .sk      Slovak\n",
            "INFO:  ⭕ #49. .sl      Slovenian\n",
            "INFO:  ⭕ #50. .es      Spanish\n",
            "INFO:  ⭕ #51. .es-419  Spanish+(Latin+America)\n",
            "INFO:  ⭕ #52. .es-US   Spanish+(United+States)\n",
            "INFO:  ⭕ #53. .sv      Swedish\n",
            "INFO:  ⭕ #54. .th      Thai\n",
            "INFO:  ⭕ #55. .tr      Turkish\n",
            "INFO:  ⭕ #56. .uk      Ukrainian\n",
            "INFO:  ⭕ #57. .vi      Vietnamese\n",
            "INFO:  ✔ marks chosen one,  given by --caption_num in 0-index, default to 0\n",
            "INFO:  Save to  MyResponse.json\n",
            "INFO:  available caption(s) will be displayed as original text:\n",
            "INFO:  ✔ #0. a.en     English+(auto-generated) automatically generated by youtube\n",
            "INFO:  ✔ marks chosen one,  given by --caption_num in 0-index, default to 0\n",
            "INFO:  Save to  AppleiPhoneXfirstlook.json\n",
            "INFO:  available caption(s) will be displayed as original text:\n",
            "INFO:  ✔ #0. a.en     English+(auto-generated) automatically generated by youtube\n",
            "INFO:  ✔ marks chosen one,  given by --caption_num in 0-index, default to 0\n",
            "INFO:  Save to  iPhoneXparody.json\n",
            "INFO:  available caption(s) will be displayed as original text:\n",
            "INFO:  ✔ #0. .en      English\n",
            "INFO:  ⭕ #1. a.en     English+(auto-generated) automatically generated by youtube\n",
            "INFO:  ✔ marks chosen one,  given by --caption_num in 0-index, default to 0\n",
            "INFO:  Save to  TheDisasterArtistOfficialTrailerHDA24.json\n",
            "ERR:  no caption available. ;(\n",
            "INFO:  available caption(s) will be displayed as original text:\n",
            "INFO:  ✔ #0. a.en     English+(auto-generated) automatically generated by youtube\n",
            "INFO:  ✔ marks chosen one,  given by --caption_num in 0-index, default to 0\n",
            "INFO:  Save to  iPhoneXImpressionsu0026HandsOn.json\n",
            "INFO:  available caption(s) will be displayed as original text:\n",
            "INFO:  ✔ #0. a.en     English+(auto-generated) automatically generated by youtube\n",
            "INFO:  ✔ marks chosen one,  given by --caption_num in 0-index, default to 0\n",
            "INFO:  Save to  ATTACKEDBYAPOLICEDOG.json\n",
            "INFO:  available caption(s) will be displayed as original text:\n",
            "INFO:  ✔ #0. a.en     English+(auto-generated) automatically generated by youtube\n",
            "INFO:  ✔ marks chosen one,  given by --caption_num in 0-index, default to 0\n",
            "INFO:  Save to  HonestTrailers-TheMummy2017.json\n",
            "INFO:  available caption(s) will be displayed as original text:\n",
            "INFO:  ✔ #0. a.en     English+(auto-generated) automatically generated by youtube\n",
            "INFO:  ✔ marks chosen one,  given by --caption_num in 0-index, default to 0\n",
            "INFO:  Save to  HonestCollegeTour.json\n",
            "INFO:  available caption(s) will be displayed as original text:\n",
            "INFO:  ✔ #0. a.en     English+(auto-generated) automatically generated by youtube\n",
            "INFO:  ✔ marks chosen one,  given by --caption_num in 0-index, default to 0\n",
            "INFO:  Save to  BestFloydMayweatherInterviewTheDiegoShow.json\n",
            "INFO:  available caption(s) will be displayed as original text:\n",
            "INFO:  ✔ #0. .en      English\n",
            "INFO:  ✔ marks chosen one,  given by --caption_num in 0-index, default to 0\n",
            "INFO:  Save to  JenniferLawrenceChallengesJimmytoanAxeThrowingContest.json\n",
            "ERR:  no caption available. ;(\n",
            "INFO:  available caption(s) will be displayed as original text:\n",
            "INFO:  ✔ #0. a.en     English+(auto-generated) automatically generated by youtube\n",
            "INFO:  ✔ marks chosen one,  given by --caption_num in 0-index, default to 0\n",
            "INFO:  Save to  ColinCloudMindReaderPredictsYourTweets-AmericasGotTalent2017.json\n",
            "INFO:  available caption(s) will be displayed as original text:\n",
            "INFO:  ✔ #0. .en      English\n",
            "INFO:  ⭕ #1. a.en     English+(auto-generated) automatically generated by youtube\n",
            "INFO:  ✔ marks chosen one,  given by --caption_num in 0-index, default to 0\n",
            "INFO:  Save to  iPhoneXiPhone8Handson.json\n",
            "INFO:  available caption(s) will be displayed as original text:\n",
            "INFO:  ✔ #0. .zh      Chinese\n",
            "INFO:  ⭕ #1. .zh-CN   Chinese+(China)\n",
            "INFO:  ⭕ #2. .en      English\n",
            "INFO:  ⭕ #3. a.en     English+(auto-generated) automatically generated by youtube\n",
            "INFO:  ⭕ #4. .id      Indonesian\n",
            "INFO:  ✔ marks chosen one,  given by --caption_num in 0-index, default to 0\n",
            "INFO:  Save to  WhatDoYouWanttoEat.json\n",
            "INFO:  available caption(s) will be displayed as original text:\n",
            "INFO:  ✔ #0. a.ko     Korean+(auto-generated) automatically generated by youtube\n",
            "INFO:  ✔ marks chosen one,  given by --caption_num in 0-index, default to 0\n",
            "INFO:  Save to  gettingintoaconversationinalanguageyoudontactuallyspeakthatwell.json\n",
            "INFO:  available caption(s) will be displayed as original text:\n",
            "INFO:  ✔ #0. .zh      Chinese\n",
            "INFO:  ⭕ #1. .zh-CN   Chinese+(China)\n",
            "INFO:  ⭕ #2. .en      English\n",
            "INFO:  ⭕ #3. a.en     English+(auto-generated) automatically generated by youtube\n",
            "INFO:  ⭕ #4. .de      German\n",
            "INFO:  ⭕ #5. .el      Greek\n",
            "INFO:  ⭕ #6. .es      Spanish\n",
            "INFO:  ⭕ #7. .tr      Turkish\n",
            "INFO:  ✔ marks chosen one,  given by --caption_num in 0-index, default to 0\n",
            "INFO:  Save to  JuicyChickenBreast-YouSuckatCookingepisode65.json\n",
            "INFO:  available caption(s) will be displayed as original text:\n",
            "INFO:  ✔ #0. a.en     English+(auto-generated) automatically generated by youtube\n",
            "INFO:  ✔ marks chosen one,  given by --caption_num in 0-index, default to 0\n",
            "INFO:  Save to  Downsizing2017-OfficialTrailer-ParamountPictures.json\n",
            "\u001b[1m\u001b[31mERROR: \u001b[0mThe function received no value for the required argument: videoID\n",
            "Usage: dl-youtube-cc VIDEOID <flags>\n",
            "  optional flags:        --output_file | --save_to_file | --translation |\n",
            "                         --to_json | --caption_num | --remove_font_tag\n",
            "\n",
            "For detailed information on this command, run:\n",
            "  dl-youtube-cc --help\n",
            "INFO:  available caption(s) will be displayed as original text:\n",
            "INFO:  ✔ #0. a.en     English+(auto-generated) automatically generated by youtube\n",
            "INFO:  ✔ marks chosen one,  given by --caption_num in 0-index, default to 0\n",
            "INFO:  Save to  HurricaneIrmadeathtollrisesto10inCuba.json\n",
            "ERR:  no caption available. ;(\n",
            "INFO:  available caption(s) will be displayed as original text:\n",
            "INFO:  ✔ #0. a.es     Spanish+(auto-generated) automatically generated by youtube\n",
            "INFO:  ✔ marks chosen one,  given by --caption_num in 0-index, default to 0\n",
            "INFO:  Save to  SUPERFRUITREACTSTOTEENSREACTTOSUPERFRUIT.json\n",
            "ERR:  no caption available. ;(\n",
            "ERR:  no caption available. ;(\n",
            "INFO:  available caption(s) will be displayed as original text:\n",
            "INFO:  ✔ #0. .ar      Arabic\n",
            "INFO:  ⭕ #1. .zh      Chinese\n",
            "INFO:  ⭕ #2. .zh-TW   Chinese+(Taiwan)\n",
            "INFO:  ⭕ #3. .cs      Czech\n",
            "INFO:  ⭕ #4. .nl      Dutch\n",
            "INFO:  ⭕ #5. .en      English\n",
            "INFO:  ⭕ #6. a.en     English+(auto-generated) automatically generated by youtube\n",
            "INFO:  ⭕ #7. .fr      French\n",
            "INFO:  ⭕ #8. .de      German\n",
            "INFO:  ⭕ #9. .el      Greek\n",
            "INFO:  ⭕ #10. .iw      Hebrew\n",
            "INFO:  ⭕ #11. .hu      Hungarian\n",
            "INFO:  ⭕ #12. .id      Indonesian\n",
            "INFO:  ⭕ #13. .it      Italian\n",
            "INFO:  ⭕ #14. .ja      Japanese\n",
            "INFO:  ⭕ #15. .pl      Polish\n",
            "INFO:  ⭕ #16. .pt      Portuguese\n",
            "INFO:  ⭕ #17. .ro      Romanian\n",
            "INFO:  ⭕ #18. .ru      Russian\n",
            "INFO:  ⭕ #19. .sr      Serbian\n",
            "INFO:  ⭕ #20. .es      Spanish\n",
            "INFO:  ⭕ #21. .es-US   Spanish+(United+States)\n",
            "INFO:  ⭕ #22. .sv      Swedish\n",
            "INFO:  ⭕ #23. .ta      Tamil\n",
            "INFO:  ⭕ #24. .th      Thai\n",
            "INFO:  ⭕ #25. .tr      Turkish\n",
            "INFO:  ⭕ #26. .vi      Vietnamese\n",
            "INFO:  ✔ marks chosen one,  given by --caption_num in 0-index, default to 0\n",
            "INFO:  Save to  NerfBowTrickShotsDudePerfect.json\n",
            "INFO:  available caption(s) will be displayed as original text:\n",
            "INFO:  ✔ #0. a.en     English+(auto-generated) automatically generated by youtube\n",
            "INFO:  ✔ marks chosen one,  given by --caption_num in 0-index, default to 0\n",
            "INFO:  Save to  ActionBronsonandSeanEvansHaveaSandwichShowdownJudgedbyMarioBataliSeanintheWild.json\n",
            "INFO:  available caption(s) will be displayed as original text:\n",
            "INFO:  ✔ #0. .en      English\n",
            "INFO:  ⭕ #1. a.en     English+(auto-generated) automatically generated by youtube\n",
            "INFO:  ✔ marks chosen one,  given by --caption_num in 0-index, default to 0\n",
            "INFO:  Save to  JoeArpaioLastWeekTonightwithJohnOliverHBO.json\n",
            "INFO:  available caption(s) will be displayed as original text:\n",
            "INFO:  ✔ #0. a.en     English+(auto-generated) automatically generated by youtube\n",
            "INFO:  ✔ marks chosen one,  given by --caption_num in 0-index, default to 0\n",
            "INFO:  Save to  WhatsInThis90sMysteryCaboodle.json\n",
            "ERR:  no caption available. ;(\n",
            "INFO:  available caption(s) will be displayed as original text:\n",
            "INFO:  ✔ #0. .en      English\n",
            "INFO:  ⭕ #1. a.en     English+(auto-generated) automatically generated by youtube\n",
            "INFO:  ✔ marks chosen one,  given by --caption_num in 0-index, default to 0\n",
            "INFO:  Save to  WhatsActuallythePlaneoftheFuture.json\n",
            "INFO:  available caption(s) will be displayed as original text:\n",
            "INFO:  ✔ #0. .en      English\n",
            "INFO:  ⭕ #1. a.en     English+(auto-generated) automatically generated by youtube\n",
            "INFO:  ⭕ #2. .de      German\n",
            "INFO:  ⭕ #3. .pt      Portuguese\n",
            "INFO:  ✔ marks chosen one,  given by --caption_num in 0-index, default to 0\n",
            "INFO:  Save to  BlindPeopleDescribeBeautyBlindPeopleDescribeCut.json\n",
            "INFO:  available caption(s) will be displayed as original text:\n",
            "INFO:  ✔ #0. .en      English\n",
            "INFO:  ⭕ #1. a.en     English+(auto-generated) automatically generated by youtube\n",
            "INFO:  ✔ marks chosen one,  given by --caption_num in 0-index, default to 0\n",
            "INFO:  Save to  WhatHillaryClintonreallythinks.json\n",
            "INFO:  available caption(s) will be displayed as original text:\n",
            "INFO:  ✔ #0. .en      English\n",
            "INFO:  ✔ marks chosen one,  given by --caption_num in 0-index, default to 0\n",
            "INFO:  Save to  DrowningforPower-RoosterTeethAnimatedAdventures.json\n",
            "INFO:  available caption(s) will be displayed as original text:\n",
            "INFO:  ✔ #0. a.en     English+(auto-generated) automatically generated by youtube\n",
            "INFO:  ⭕ #1. .en.j3PyPqV-e1s English+-+CC+(English)\n",
            "INFO:  ✔ marks chosen one,  given by --caption_num in 0-index, default to 0\n",
            "INFO:  Save to  JumpingThroughImpossibleShapes.json\n",
            "INFO:  available caption(s) will be displayed as original text:\n",
            "INFO:  ✔ #0. a.en     English+(auto-generated) automatically generated by youtube\n",
            "INFO:  ✔ marks chosen one,  given by --caption_num in 0-index, default to 0\n",
            "INFO:  Save to  DoesMaggieGyllenhaalHaveTaylorSwiftsScarfWWHL.json\n",
            "ERR:  no caption available. ;(\n",
            "INFO:  available caption(s) will be displayed as original text:\n",
            "INFO:  ✔ #0. a.en     English+(auto-generated) automatically generated by youtube\n",
            "INFO:  ✔ marks chosen one,  given by --caption_num in 0-index, default to 0\n",
            "INFO:  Save to  FALLMAKEUPTUTORIALTalkThroughTutorialCaseyHolmes.json\n",
            "INFO:  available caption(s) will be displayed as original text:\n",
            "INFO:  ✔ #0. .ar      Arabic\n",
            "INFO:  ⭕ #1. .en      English\n",
            "INFO:  ⭕ #2. a.en     English+(auto-generated) automatically generated by youtube\n",
            "INFO:  ⭕ #3. .sl      Slovenian\n",
            "INFO:  ⭕ #4. .th      Thai\n",
            "INFO:  ⭕ #5. .tr      Turkish\n",
            "INFO:  ✔ marks chosen one,  given by --caption_num in 0-index, default to 0\n",
            "INFO:  Save to  TheCommuterTeaserTrailer12018MovieclipsTrailers.json\n",
            "INFO:  available caption(s) will be displayed as original text:\n",
            "INFO:  ✔ #0. .ar      Arabic\n",
            "INFO:  ⭕ #1. .ca      Catalan\n",
            "INFO:  ⭕ #2. .zh-CN   Chinese+(China)\n",
            "INFO:  ⭕ #3. .zh-Hant Chinese+(Traditional)\n",
            "INFO:  ⭕ #4. .zh-TW   Chinese+(Taiwan)\n",
            "INFO:  ⭕ #5. a.en     English+(auto-generated) automatically generated by youtube\n",
            "INFO:  ⭕ #6. .en-GB   English+(United+Kingdom)\n",
            "INFO:  ⭕ #7. .fr      French\n",
            "INFO:  ⭕ #8. .de      German\n",
            "INFO:  ⭕ #9. .el      Greek\n",
            "INFO:  ⭕ #10. .hu      Hungarian\n",
            "INFO:  ⭕ #11. .it      Italian\n",
            "INFO:  ⭕ #12. .ko      Korean\n",
            "INFO:  ⭕ #13. .fa-IR   Persian+(Iran)\n",
            "INFO:  ⭕ #14. .pt-BR   Portuguese+(Brazil)\n",
            "INFO:  ⭕ #15. .ru      Russian\n",
            "INFO:  ⭕ #16. .es      Spanish\n",
            "INFO:  ⭕ #17. .tr      Turkish\n",
            "INFO:  ⭕ #18. .vi      Vietnamese\n",
            "INFO:  ✔ marks chosen one,  given by --caption_num in 0-index, default to 0\n",
            "INFO:  Save to  TheProblemWithOurPhones.json\n",
            "ERR:  no caption available. ;(\n",
            "ERR:  no caption available. ;(\n",
            "INFO:  available caption(s) will be displayed as original text:\n",
            "INFO:  ✔ #0. a.en     English+(auto-generated) automatically generated by youtube\n",
            "INFO:  ✔ marks chosen one,  given by --caption_num in 0-index, default to 0\n",
            "INFO:  Save to  FAIL..NewESTEELAUDERDOUBLEWEARNUDEFirstImpressionReviewu0026Demo15DAYSOFFOUNDATION.json\n",
            "INFO:  available caption(s) will be displayed as original text:\n",
            "INFO:  ✔ #0. a.en     English+(auto-generated) automatically generated by youtube\n",
            "INFO:  ✔ marks chosen one,  given by --caption_num in 0-index, default to 0\n",
            "INFO:  Save to  IMGONNABEAFATHERThingsGotAwkward.json\n",
            "INFO:  available caption(s) will be displayed as original text:\n",
            "INFO:  ✔ #0. a.en     English+(auto-generated) automatically generated by youtube\n",
            "INFO:  ✔ marks chosen one,  given by --caption_num in 0-index, default to 0\n",
            "INFO:  Save to  FentyBeautyProFiltrFoundationReviewNymaTangthedarkestshade.json\n",
            "INFO:  available caption(s) will be displayed as original text:\n",
            "INFO:  ✔ #0. .en      English\n",
            "INFO:  ⭕ #1. a.en     English+(auto-generated) automatically generated by youtube\n",
            "INFO:  ✔ marks chosen one,  given by --caption_num in 0-index, default to 0\n",
            "INFO:  Save to  JimmyKimmelTalkstoKristenBellinOrlandoAfterHurricaneIrma.json\n",
            "ERR:  no caption available. ;(\n",
            "INFO:  available caption(s) will be displayed as original text:\n",
            "INFO:  ✔ #0. a.en     English+(auto-generated) automatically generated by youtube\n",
            "INFO:  ✔ marks chosen one,  given by --caption_num in 0-index, default to 0\n",
            "INFO:  Save to  GOLDDIVAMACARONS-TheScranLine.json\n",
            "INFO:  available caption(s) will be displayed as original text:\n",
            "INFO:  ✔ #0. .en      English\n",
            "INFO:  ⭕ #1. a.en     English+(auto-generated) automatically generated by youtube\n",
            "INFO:  ✔ marks chosen one,  given by --caption_num in 0-index, default to 0\n",
            "INFO:  Save to  CHOCOLATECHIPCOOKIECUPCAKES-NERDYNUMMIES.json\n",
            "INFO:  available caption(s) will be displayed as original text:\n",
            "INFO:  ✔ #0. a.en     English+(auto-generated) automatically generated by youtube\n",
            "INFO:  ✔ marks chosen one,  given by --caption_num in 0-index, default to 0\n",
            "INFO:  Save to  AppleWatchSeries3hands-onlivefromAppleEvent2017.json\n",
            "ERR:  no caption available. ;(\n",
            "ERR:  no caption available. ;(\n",
            "INFO:  available caption(s) will be displayed as original text:\n",
            "INFO:  ✔ #0. a.en     English+(auto-generated) automatically generated by youtube\n",
            "INFO:  ⭕ #1. .en.ehkg1hFWq8A English+-+Default\n",
            "INFO:  ✔ marks chosen one,  given by --caption_num in 0-index, default to 0\n",
            "INFO:  Save to  RealClownsCreepierthanPennywisefromIT.json\n",
            "ERR:  no caption available. ;(\n",
            "INFO:  available caption(s) will be displayed as original text:\n",
            "INFO:  ✔ #0. a.en     English+(auto-generated) automatically generated by youtube\n",
            "INFO:  ✔ marks chosen one,  given by --caption_num in 0-index, default to 0\n",
            "INFO:  Save to  Season21PreviewWhitePeopleRenovatingHouses.json\n",
            "INFO:  available caption(s) will be displayed as original text:\n",
            "INFO:  ✔ #0. .en      English\n",
            "INFO:  ⭕ #1. a.en     English+(auto-generated) automatically generated by youtube\n",
            "INFO:  ✔ marks chosen one,  given by --caption_num in 0-index, default to 0\n",
            "INFO:  Save to  AfterHours6MoviesWhoseTimelinesDontAddUp.json\n",
            "ERR:  no caption available. ;(\n",
            "ERR:  no caption available. ;(\n",
            "ERR:  no caption available. ;(\n",
            "ERR:  no caption available. ;(\n",
            "INFO:  available caption(s) will be displayed as original text:\n",
            "INFO:  ✔ #0. .en      English\n",
            "INFO:  ⭕ #1. a.en     English+(auto-generated) automatically generated by youtube\n",
            "INFO:  ✔ marks chosen one,  given by --caption_num in 0-index, default to 0\n",
            "INFO:  Save to  SurveyingHurricaneIrmasDamageinSouthwestFlorida.json\n",
            "ERR:  no caption available. ;(\n",
            "INFO:  available caption(s) will be displayed as original text:\n",
            "INFO:  ✔ #0. .en      English\n",
            "INFO:  ⭕ #1. a.en     English+(auto-generated) automatically generated by youtube\n",
            "INFO:  ✔ marks chosen one,  given by --caption_num in 0-index, default to 0\n",
            "INFO:  Save to  3SeafoodVs.213SeafoodAustralia.json\n",
            "ERR:  no caption available. ;(\n",
            "ERR:  no caption available. ;(\n",
            "INFO:  available caption(s) will be displayed as original text:\n",
            "INFO:  ✔ #0. a.en     English+(auto-generated) automatically generated by youtube\n",
            "INFO:  ✔ marks chosen one,  given by --caption_num in 0-index, default to 0\n",
            "INFO:  Save to  iPhoneXwalkthroughAnimojiFaceIDPortraitModeLightingeffectsmore.json\n",
            "INFO:  available caption(s) will be displayed as original text:\n",
            "INFO:  ✔ #0. .zh-CN   Chinese+(China)\n",
            "INFO:  ⭕ #1. a.en     English+(auto-generated) automatically generated by youtube\n",
            "INFO:  ⭕ #2. .en.ehkg1hFWq8A English+-+Default\n",
            "INFO:  ⭕ #3. .it      Italian\n",
            "INFO:  ⭕ #4. .ru      Russian\n",
            "INFO:  ⭕ #5. .tr      Turkish\n",
            "INFO:  ✔ marks chosen one,  given by --caption_num in 0-index, default to 0\n",
            "INFO:  Save to  HowtophotographINCREDIBLEARCHITECTURE.json\n",
            "INFO:  available caption(s) will be displayed as original text:\n",
            "INFO:  ✔ #0. a.en     English+(auto-generated) automatically generated by youtube\n",
            "INFO:  ✔ marks chosen one,  given by --caption_num in 0-index, default to 0\n",
            "INFO:  Save to  TommyWiseauOnWhyJamesFrancoWasPerfectForTheDisasterArtistLosAngelesTimes.json\n",
            "ERR:  no caption available. ;(\n",
            "INFO:  available caption(s) will be displayed as original text:\n",
            "INFO:  ✔ #0. .en      English\n",
            "INFO:  ⭕ #1. a.en     English+(auto-generated) automatically generated by youtube\n",
            "INFO:  ✔ marks chosen one,  given by --caption_num in 0-index, default to 0\n",
            "INFO:  Save to  iPhoneXhandson.json\n",
            "ERR:  no caption available. ;(\n",
            "INFO:  available caption(s) will be displayed as original text:\n",
            "INFO:  ✔ #0. a.en     English+(auto-generated) automatically generated by youtube\n",
            "INFO:  ✔ marks chosen one,  given by --caption_num in 0-index, default to 0\n",
            "INFO:  Save to  BIGANNOUNCEMENTONMYPOPSCICLE.json\n",
            "INFO:  available caption(s) will be displayed as original text:\n",
            "INFO:  ✔ #0. a.en     English+(auto-generated) automatically generated by youtube\n",
            "INFO:  ✔ marks chosen one,  given by --caption_num in 0-index, default to 0\n",
            "INFO:  Save to  ThingsyouneedtoknowaboutPennywise.json\n",
            "INFO:  available caption(s) will be displayed as original text:\n",
            "INFO:  ✔ #0. a.en     English+(auto-generated) automatically generated by youtube\n",
            "INFO:  ✔ marks chosen one,  given by --caption_num in 0-index, default to 0\n",
            "INFO:  Save to  ObsessedWithNetflix.json\n",
            "INFO:  available caption(s) will be displayed as original text:\n",
            "INFO:  ✔ #0. .en      English\n",
            "INFO:  ⭕ #1. a.en     English+(auto-generated) automatically generated by youtube\n",
            "INFO:  ✔ marks chosen one,  given by --caption_num in 0-index, default to 0\n",
            "INFO:  Save to  GameRevealedSeason7Episode3AGoodbyeKiss.json\n",
            "\u001b[1m\u001b[31mERROR: \u001b[0mThe function received no value for the required argument: videoID\n",
            "Usage: dl-youtube-cc VIDEOID <flags>\n",
            "  optional flags:        --output_file | --save_to_file | --translation |\n",
            "                         --to_json | --caption_num | --remove_font_tag\n",
            "\n",
            "For detailed information on this command, run:\n",
            "  dl-youtube-cc --help\n",
            "ERR:  no caption available. ;(\n",
            "ERR:  no caption available. ;(\n",
            "INFO:  available caption(s) will be displayed as original text:\n",
            "INFO:  ✔ #0. a.en     English+(auto-generated) automatically generated by youtube\n",
            "INFO:  ✔ marks chosen one,  given by --caption_num in 0-index, default to 0\n",
            "INFO:  Save to  iPhone8Hands-OnDontOverlookThisBigUpdate.json\n",
            "INFO:  available caption(s) will be displayed as original text:\n",
            "INFO:  ✔ #0. .en      English\n",
            "INFO:  ⭕ #1. a.en     English+(auto-generated) automatically generated by youtube\n",
            "INFO:  ✔ marks chosen one,  given by --caption_num in 0-index, default to 0\n",
            "INFO:  Save to  EssentialPhoneDropTest-TITANIUMandCERAMICvs.GRAVITY.json\n",
            "ERR:  no caption available. ;(\n",
            "ERR:  no caption available. ;(\n",
            "ERR:  no caption available. ;(\n",
            "ERR:  no caption available. ;(\n",
            "INFO:  available caption(s) will be displayed as original text:\n",
            "INFO:  ✔ #0. .en      English\n",
            "INFO:  ⭕ #1. a.en     English+(auto-generated) automatically generated by youtube\n",
            "INFO:  ⭕ #2. .fr      French\n",
            "INFO:  ⭕ #3. .de      German\n",
            "INFO:  ⭕ #4. .iw      Hebrew\n",
            "INFO:  ⭕ #5. .it      Italian\n",
            "INFO:  ⭕ #6. .pt      Portuguese\n",
            "INFO:  ⭕ #7. .ru      Russian\n",
            "INFO:  ⭕ #8. .tr      Turkish\n",
            "INFO:  ✔ marks chosen one,  given by --caption_num in 0-index, default to 0\n",
            "INFO:  Save to  HowComputersCompressTextHuffmanCodingandHuffmanTrees.json\n",
            "INFO:  available caption(s) will be displayed as original text:\n",
            "INFO:  ✔ #0. .da      Danish\n",
            "INFO:  ⭕ #1. .en      English\n",
            "INFO:  ⭕ #2. a.en     English+(auto-generated) automatically generated by youtube\n",
            "INFO:  ⭕ #3. .hu      Hungarian\n",
            "INFO:  ⭕ #4. .pl      Polish\n",
            "INFO:  ⭕ #5. .pt-BR   Portuguese+(Brazil)\n",
            "INFO:  ⭕ #6. .ru      Russian\n",
            "INFO:  ⭕ #7. .es      Spanish\n",
            "INFO:  ✔ marks chosen one,  given by --caption_num in 0-index, default to 0\n",
            "INFO:  Save to  TheConstitutionoftheSpartans.json\n",
            "ERR:  no caption available. ;(\n",
            "ERR:  no caption available. ;(\n",
            "INFO:  available caption(s) will be displayed as original text:\n",
            "INFO:  ✔ #0. .en      English\n",
            "INFO:  ⭕ #1. a.en     English+(auto-generated) automatically generated by youtube\n",
            "INFO:  ✔ marks chosen one,  given by --caption_num in 0-index, default to 0\n",
            "INFO:  Save to  LarrysBacku0026NothingHasChangedCurbYourEnthusiasmSeason9Trailer22017HBO.json\n",
            "INFO:  available caption(s) will be displayed as original text:\n",
            "INFO:  ✔ #0. a.en     English+(auto-generated) automatically generated by youtube\n",
            "INFO:  ⭕ #1. .en-GB   English+(United+Kingdom)\n",
            "INFO:  ⭕ #2. .fr      French\n",
            "INFO:  ⭕ #3. .es-419  Spanish+(Latin+America)\n",
            "INFO:  ⭕ #4. .tr      Turkish\n",
            "INFO:  ✔ marks chosen one,  given by --caption_num in 0-index, default to 0\n",
            "INFO:  Save to  CasuallyExplainedIsSheIntoYouII-Whatstheworstthatcouldhappen.json\n",
            "INFO:  available caption(s) will be displayed as original text:\n",
            "INFO:  ✔ #0. a.en     English+(auto-generated) automatically generated by youtube\n",
            "INFO:  ✔ marks chosen one,  given by --caption_num in 0-index, default to 0\n",
            "INFO:  Save to  10EasyMagicTricksAnyoneCanDo.json\n",
            "INFO:  available caption(s) will be displayed as original text:\n",
            "INFO:  ✔ #0. .en      English\n",
            "INFO:  ⭕ #1. a.en     English+(auto-generated) automatically generated by youtube\n",
            "INFO:  ⭕ #2. .fr      French\n",
            "INFO:  ✔ marks chosen one,  given by --caption_num in 0-index, default to 0\n",
            "INFO:  Save to  IBoughtAnEntireOutfitBlindfolded.json\n",
            "INFO:  available caption(s) will be displayed as original text:\n",
            "INFO:  ✔ #0. .en      English\n",
            "INFO:  ⭕ #1. a.en     English+(auto-generated) automatically generated by youtube\n",
            "INFO:  ✔ marks chosen one,  given by --caption_num in 0-index, default to 0\n",
            "INFO:  Save to  JapansOminousDancingCatsandtheDisasterThatFollowed.json\n",
            "INFO:  available caption(s) will be displayed as original text:\n",
            "INFO:  ✔ #0. .en      English\n",
            "INFO:  ⭕ #1. a.en     English+(auto-generated) automatically generated by youtube\n",
            "INFO:  ⭕ #2. .ru      Russian\n",
            "INFO:  ✔ marks chosen one,  given by --caption_num in 0-index, default to 0\n",
            "INFO:  Save to  RickandMortyWhyisRickSuchaRick.json\n",
            "INFO:  available caption(s) will be displayed as original text:\n",
            "INFO:  ✔ #0. a.en     English+(auto-generated) automatically generated by youtube\n",
            "INFO:  ✔ marks chosen one,  given by --caption_num in 0-index, default to 0\n",
            "INFO:  Save to  IGaveMyselfACelebrityHairTransformation.json\n",
            "INFO:  available caption(s) will be displayed as original text:\n",
            "INFO:  ✔ #0. a.en     English+(auto-generated) automatically generated by youtube\n",
            "INFO:  ✔ marks chosen one,  given by --caption_num in 0-index, default to 0\n",
            "INFO:  Save to  ViralInstagramMakeupTrendsWavyEyebrowsTestedAlishaMarie.json\n",
            "INFO:  available caption(s) will be displayed as original text:\n",
            "INFO:  ✔ #0. a.en     English+(auto-generated) automatically generated by youtube\n",
            "INFO:  ✔ marks chosen one,  given by --caption_num in 0-index, default to 0\n",
            "INFO:  Save to  Try-OnFALLHAULFashionDrugstoreMakeupIngridNilsen.json\n",
            "ERR:  no caption available. ;(\n",
            "ERR:  no caption available. ;(\n",
            "INFO:  available caption(s) will be displayed as original text:\n",
            "INFO:  ✔ #0. .en.nP7-2PuUl7o English+-+en\n",
            "INFO:  ✔ marks chosen one,  given by --caption_num in 0-index, default to 0\n",
            "INFO:  Save to  TrackingHurricaneIrma911.json\n",
            "INFO:  available caption(s) will be displayed as original text:\n",
            "INFO:  ✔ #0. a.en     English+(auto-generated) automatically generated by youtube\n",
            "INFO:  ✔ marks chosen one,  given by --caption_num in 0-index, default to 0\n",
            "INFO:  Save to  LifeofKylieRecapSeason1Ep.7E.json\n",
            "INFO:  available caption(s) will be displayed as original text:\n",
            "INFO:  ✔ #0. .en      English\n",
            "INFO:  ⭕ #1. a.en     English+(auto-generated) automatically generated by youtube\n",
            "INFO:  ⭕ #2. .es      Spanish\n",
            "INFO:  ✔ marks chosen one,  given by --caption_num in 0-index, default to 0\n",
            "INFO:  Save to  whatisderealisationdepersonalisation.json\n",
            "\u001b[1m\u001b[31mERROR: \u001b[0mThe function received no value for the required argument: videoID\n",
            "Usage: dl-youtube-cc VIDEOID <flags>\n",
            "  optional flags:        --output_file | --save_to_file | --translation |\n",
            "                         --to_json | --caption_num | --remove_font_tag\n",
            "\n",
            "For detailed information on this command, run:\n",
            "  dl-youtube-cc --help\n",
            "INFO:  available caption(s) will be displayed as original text:\n",
            "INFO:  ✔ #0. .en      English\n",
            "INFO:  ⭕ #1. a.en     English+(auto-generated) automatically generated by youtube\n",
            "INFO:  ✔ marks chosen one,  given by --caption_num in 0-index, default to 0\n",
            "INFO:  Save to  FENTYBEAUTYbyRIHANNAFULLREVIEW.json\n",
            "INFO:  available caption(s) will be displayed as original text:\n",
            "INFO:  ✔ #0. a.nl     Dutch+(auto-generated) automatically generated by youtube\n",
            "INFO:  ⭕ #1. .en.nP7-2PuUl7o English+-+en\n",
            "INFO:  ✔ marks chosen one,  given by --caption_num in 0-index, default to 0\n",
            "INFO:  Save to  HurricaneIrmaNowaCategory3CouldRe-EngergizetoCategory4MSNBC.json\n",
            "INFO:  available caption(s) will be displayed as original text:\n",
            "INFO:  ✔ #0. a.en     English+(auto-generated) automatically generated by youtube\n",
            "INFO:  ✔ marks chosen one,  given by --caption_num in 0-index, default to 0\n",
            "INFO:  Save to  63IRMAgerdHurricaneCandyandwhyitshardtomakecandywhenitrains..json\n",
            "ERR:  no caption available. ;(\n",
            "ERR:  no caption available. ;(\n",
            "ERR:  no caption available. ;(\n",
            "INFO:  available caption(s) will be displayed as original text:\n",
            "INFO:  ✔ #0. .en      English\n",
            "INFO:  ⭕ #1. a.en     English+(auto-generated) automatically generated by youtube\n",
            "INFO:  ✔ marks chosen one,  given by --caption_num in 0-index, default to 0\n",
            "INFO:  Save to  10HourTestOnThese5CultBeautyBuysFullFaceFirstImpressionsBeautyWithMi.json\n",
            "ERR:  no caption available. ;(\n",
            "INFO:  available caption(s) will be displayed as original text:\n",
            "INFO:  ✔ #0. .en      English\n",
            "INFO:  ⭕ #1. a.en     English+(auto-generated) automatically generated by youtube\n",
            "INFO:  ✔ marks chosen one,  given by --caption_num in 0-index, default to 0\n",
            "INFO:  Save to  10HilariousThriftStoreItems.json\n",
            "INFO:  available caption(s) will be displayed as original text:\n",
            "INFO:  ✔ #0. a.en     English+(auto-generated) automatically generated by youtube\n",
            "INFO:  ✔ marks chosen one,  given by --caption_num in 0-index, default to 0\n",
            "INFO:  Save to  HurricaneIrmaroarsintotheFloridaKeysandcontinuesupthecoast.json\n",
            "INFO:  available caption(s) will be displayed as original text:\n",
            "INFO:  ✔ #0. a.en     English+(auto-generated) automatically generated by youtube\n",
            "INFO:  ✔ marks chosen one,  given by --caption_num in 0-index, default to 0\n",
            "INFO:  Save to  TheHondaCivichasaverysmallfeaturethatInevernoticed.Untilnow..json\n",
            "INFO:  available caption(s) will be displayed as original text:\n",
            "INFO:  ✔ #0. a.en     English+(auto-generated) automatically generated by youtube\n",
            "INFO:  ✔ marks chosen one,  given by --caption_num in 0-index, default to 0\n",
            "INFO:  Save to  TESTINGWEIRDPUPPYTOYSWITHPUPPYCUTE.json\n",
            "INFO:  available caption(s) will be displayed as original text:\n",
            "INFO:  ✔ #0. a.en     English+(auto-generated) automatically generated by youtube\n",
            "INFO:  ✔ marks chosen one,  given by --caption_num in 0-index, default to 0\n",
            "INFO:  Save to  HurricaneIrmaEmergencyFakeInterpreter.json\n",
            "ERR:  no caption available. ;(\n",
            "INFO:  available caption(s) will be displayed as original text:\n",
            "INFO:  ✔ #0. .en      English\n",
            "INFO:  ⭕ #1. a.en     English+(auto-generated) automatically generated by youtube\n",
            "INFO:  ✔ marks chosen one,  given by --caption_num in 0-index, default to 0\n",
            "INFO:  Save to  SALTEDEGGCRABStreetFoodTourofOldAirportRoadHawkerCenter.json\n",
            "ERR:  no caption available. ;(\n",
            "INFO:  available caption(s) will be displayed as original text:\n",
            "INFO:  ✔ #0. a.en     English+(auto-generated) automatically generated by youtube\n",
            "INFO:  ✔ marks chosen one,  given by --caption_num in 0-index, default to 0\n",
            "INFO:  Save to  TheseAreTheBestFeaturesComingToiPhones..json\n",
            "INFO:  available caption(s) will be displayed as original text:\n",
            "INFO:  ✔ #0. a.en     English+(auto-generated) automatically generated by youtube\n",
            "INFO:  ✔ marks chosen one,  given by --caption_num in 0-index, default to 0\n",
            "INFO:  Save to  GalaxyNote88ThingsToDoFirst.json\n",
            "INFO:  available caption(s) will be displayed as original text:\n",
            "INFO:  ✔ #0. a.en     English+(auto-generated) automatically generated by youtube\n",
            "INFO:  ✔ marks chosen one,  given by --caption_num in 0-index, default to 0\n",
            "INFO:  Save to  IT-SPOILERTalk.json\n",
            "\u001b[1m\u001b[31mERROR: \u001b[0mThe function received no value for the required argument: videoID\n",
            "Usage: dl-youtube-cc VIDEOID <flags>\n",
            "  optional flags:        --output_file | --save_to_file | --translation |\n",
            "                         --to_json | --caption_num | --remove_font_tag\n",
            "\n",
            "For detailed information on this command, run:\n",
            "  dl-youtube-cc --help\n",
            "INFO:  available caption(s) will be displayed as original text:\n",
            "INFO:  ✔ #0. a.en     English+(auto-generated) automatically generated by youtube\n",
            "INFO:  ⭕ #1. .en.nP7-2PuUl7o English+-+en\n",
            "INFO:  ⭕ #2. .fr.gqnk0mWVyHo French+-+fr\n",
            "INFO:  ⭕ #3. .de.XwLwiJMB_Xs German+-+de\n",
            "INFO:  ⭕ #4. .it.DRSbkOc5Qpc Italian+-+it\n",
            "INFO:  ✔ marks chosen one,  given by --caption_num in 0-index, default to 0\n",
            "INFO:  Save to  CanThisMinkeWhaleEscapetheKillerOrcasFrozenPlanetBBCEarth.json\n",
            "ERR:  no caption available. ;(\n",
            "ERR:  no caption available. ;(\n",
            "ERR:  no caption available. ;(\n",
            "ERR:  no caption available. ;(\n",
            "ERR:  no caption available. ;(\n",
            "ERR:  no caption available. ;(\n",
            "ERR:  no caption available. ;(\n",
            "ERR:  no caption available. ;(\n",
            "ERR:  no caption available. ;(\n",
            "ERR:  no caption available. ;(\n",
            "ERR:  no caption available. ;(\n",
            "ERR:  no caption available. ;(\n",
            "ERR:  no caption available. ;(\n",
            "ERR:  no caption available. ;(\n",
            "ERR:  no caption available. ;(\n",
            "ERR:  no caption available. ;(\n",
            "ERR:  no caption available. ;(\n",
            "ERR:  no caption available. ;(\n",
            "ERR:  no caption available. ;(\n",
            "ERR:  no caption available. ;(\n",
            "ERR:  no caption available. ;(\n",
            "ERR:  no caption available. ;(\n",
            "ERR:  no caption available. ;(\n",
            "ERR:  no caption available. ;(\n",
            "ERR:  no caption available. ;(\n",
            "ERR:  no caption available. ;(\n",
            "ERR:  no caption available. ;(\n",
            "ERR:  no caption available. ;(\n",
            "ERR:  no caption available. ;(\n",
            "ERR:  no caption available. ;(\n",
            "ERR:  no caption available. ;(\n",
            "ERR:  no caption available. ;(\n",
            "ERR:  no caption available. ;(\n",
            "ERR:  no caption available. ;(\n",
            "ERR:  no caption available. ;(\n",
            "ERR:  no caption available. ;(\n",
            "ERR:  no caption available. ;(\n",
            "ERR:  no caption available. ;(\n",
            "ERR:  no caption available. ;(\n",
            "ERR:  no caption available. ;(\n",
            "ERR:  no caption available. ;(\n",
            "ERR:  no caption available. ;(\n",
            "ERR:  no caption available. ;(\n",
            "ERR:  no caption available. ;(\n",
            "ERR:  no caption available. ;(\n",
            "ERR:  no caption available. ;(\n",
            "ERR:  no caption available. ;(\n",
            "ERR:  no caption available. ;(\n",
            "ERR:  no caption available. ;(\n",
            "ERR:  no caption available. ;(\n",
            "ERR:  no caption available. ;(\n",
            "ERR:  no caption available. ;(\n",
            "ERR:  no caption available. ;(\n",
            "ERR:  no caption available. ;(\n",
            "ERR:  no caption available. ;(\n",
            "ERR:  no caption available. ;(\n",
            "ERR:  no caption available. ;(\n",
            "ERR:  no caption available. ;(\n",
            "ERR:  no caption available. ;(\n",
            "ERR:  no caption available. ;(\n",
            "ERR:  no caption available. ;(\n",
            "ERR:  no caption available. ;(\n",
            "ERR:  no caption available. ;(\n",
            "ERR:  no caption available. ;(\n",
            "ERR:  no caption available. ;(\n",
            "ERR:  no caption available. ;(\n",
            "ERR:  no caption available. ;(\n",
            "ERR:  no caption available. ;(\n",
            "ERR:  no caption available. ;(\n",
            "ERR:  no caption available. ;(\n",
            "ERR:  no caption available. ;(\n",
            "ERR:  no caption available. ;(\n",
            "ERR:  no caption available. ;(\n",
            "ERR:  no caption available. ;(\n",
            "ERR:  no caption available. ;(\n",
            "ERR:  no caption available. ;(\n",
            "ERR:  no caption available. ;(\n",
            "ERR:  no caption available. ;(\n",
            "ERR:  no caption available. ;(\n",
            "ERR:  no caption available. ;(\n",
            "ERR:  no caption available. ;(\n",
            "ERR:  no caption available. ;(\n",
            "ERR:  no caption available. ;(\n",
            "ERR:  no caption available. ;(\n",
            "\u001b[1m\u001b[31mERROR: \u001b[0mThe function received no value for the required argument: videoID\n",
            "Usage: dl-youtube-cc VIDEOID <flags>\n",
            "  optional flags:        --output_file | --save_to_file | --translation |\n",
            "                         --to_json | --caption_num | --remove_font_tag\n",
            "\n",
            "For detailed information on this command, run:\n",
            "  dl-youtube-cc --help\n",
            "ERR:  no caption available. ;(\n",
            "ERR:  no caption available. ;(\n",
            "ERR:  no caption available. ;(\n",
            "ERR:  no caption available. ;(\n",
            "ERR:  no caption available. ;(\n",
            "ERR:  no caption available. ;(\n",
            "ERR:  no caption available. ;(\n",
            "ERR:  no caption available. ;(\n",
            "ERR:  no caption available. ;(\n",
            "ERR:  no caption available. ;(\n",
            "ERR:  no caption available. ;(\n",
            "ERR:  no caption available. ;(\n",
            "ERR:  no caption available. ;(\n",
            "ERR:  no caption available. ;(\n",
            "ERR:  no caption available. ;(\n",
            "ERR:  no caption available. ;(\n",
            "ERR:  no caption available. ;(\n",
            "ERR:  no caption available. ;(\n",
            "ERR:  no caption available. ;(\n",
            "ERR:  no caption available. ;(\n",
            "ERR:  no caption available. ;(\n",
            "ERR:  no caption available. ;(\n",
            "ERR:  no caption available. ;(\n",
            "ERR:  no caption available. ;(\n",
            "ERR:  no caption available. ;(\n",
            "ERR:  no caption available. ;(\n",
            "ERR:  no caption available. ;(\n",
            "ERR:  no caption available. ;(\n",
            "ERR:  no caption available. ;(\n",
            "ERR:  no caption available. ;(\n",
            "ERR:  no caption available. ;(\n",
            "ERR:  no caption available. ;(\n",
            "ERR:  no caption available. ;(\n",
            "ERR:  no caption available. ;(\n",
            "ERR:  no caption available. ;(\n",
            "ERR:  no caption available. ;(\n",
            "ERR:  no caption available. ;(\n",
            "ERR:  no caption available. ;(\n",
            "ERR:  no caption available. ;(\n",
            "ERR:  no caption available. ;(\n",
            "ERR:  no caption available. ;(\n",
            "ERR:  no caption available. ;(\n",
            "ERR:  no caption available. ;(\n",
            "ERR:  no caption available. ;(\n",
            "ERR:  no caption available. ;(\n",
            "ERR:  no caption available. ;(\n",
            "ERR:  no caption available. ;(\n",
            "ERR:  no caption available. ;(\n",
            "ERR:  no caption available. ;(\n",
            "ERR:  no caption available. ;(\n",
            "ERR:  no caption available. ;(\n",
            "ERR:  no caption available. ;(\n",
            "ERR:  no caption available. ;(\n",
            "ERR:  no caption available. ;(\n",
            "ERR:  no caption available. ;(\n",
            "ERR:  no caption available. ;(\n",
            "ERR:  no caption available. ;(\n",
            "ERR:  no caption available. ;(\n",
            "ERR:  no caption available. ;(\n",
            "ERR:  no caption available. ;(\n",
            "ERR:  no caption available. ;(\n",
            "ERR:  no caption available. ;(\n",
            "ERR:  no caption available. ;(\n",
            "ERR:  no caption available. ;(\n",
            "ERR:  no caption available. ;(\n",
            "ERR:  no caption available. ;(\n",
            "ERR:  no caption available. ;(\n",
            "ERR:  no caption available. ;(\n",
            "ERR:  no caption available. ;(\n",
            "ERR:  no caption available. ;(\n",
            "ERR:  no caption available. ;(\n",
            "ERR:  no caption available. ;(\n",
            "ERR:  no caption available. ;(\n",
            "ERR:  no caption available. ;(\n",
            "ERR:  no caption available. ;(\n",
            "ERR:  no caption available. ;(\n",
            "ERR:  no caption available. ;(\n",
            "ERR:  no caption available. ;(\n",
            "ERR:  no caption available. ;(\n",
            "ERR:  no caption available. ;(\n",
            "ERR:  no caption available. ;(\n",
            "ERR:  no caption available. ;(\n",
            "ERR:  no caption available. ;(\n",
            "ERR:  no caption available. ;(\n",
            "ERR:  no caption available. ;(\n",
            "ERR:  no caption available. ;(\n",
            "ERR:  no caption available. ;(\n",
            "ERR:  no caption available. ;(\n",
            "ERR:  no caption available. ;(\n",
            "ERR:  no caption available. ;(\n",
            "\u001b[1m\u001b[31mERROR: \u001b[0mThe function received no value for the required argument: videoID\n",
            "Usage: dl-youtube-cc VIDEOID <flags>\n",
            "  optional flags:        --output_file | --save_to_file | --translation |\n",
            "                         --to_json | --caption_num | --remove_font_tag\n",
            "\n",
            "For detailed information on this command, run:\n",
            "  dl-youtube-cc --help\n",
            "ERR:  no caption available. ;(\n",
            "ERR:  no caption available. ;(\n",
            "ERR:  no caption available. ;(\n",
            "ERR:  no caption available. ;(\n",
            "ERR:  no caption available. ;(\n",
            "ERR:  no caption available. ;(\n",
            "ERR:  no caption available. ;(\n",
            "ERR:  no caption available. ;(\n",
            "ERR:  no caption available. ;(\n",
            "ERR:  no caption available. ;(\n",
            "ERR:  no caption available. ;(\n",
            "ERR:  no caption available. ;(\n",
            "ERR:  no caption available. ;(\n",
            "ERR:  no caption available. ;(\n",
            "ERR:  no caption available. ;(\n",
            "ERR:  no caption available. ;(\n",
            "ERR:  no caption available. ;(\n",
            "ERR:  no caption available. ;(\n",
            "ERR:  no caption available. ;(\n",
            "ERR:  no caption available. ;(\n",
            "ERR:  no caption available. ;(\n",
            "ERR:  no caption available. ;(\n",
            "ERR:  no caption available. ;(\n",
            "ERR:  no caption available. ;(\n",
            "ERR:  no caption available. ;(\n",
            "ERR:  no caption available. ;(\n",
            "ERR:  no caption available. ;(\n",
            "\u001b[1m\u001b[31mERROR: \u001b[0mThe function received no value for the required argument: videoID\n",
            "Usage: dl-youtube-cc VIDEOID <flags>\n",
            "  optional flags:        --output_file | --save_to_file | --translation |\n",
            "                         --to_json | --caption_num | --remove_font_tag\n",
            "\n",
            "For detailed information on this command, run:\n",
            "  dl-youtube-cc --help\n",
            "ERR:  no caption available. ;(\n",
            "ERR:  no caption available. ;(\n",
            "ERR:  no caption available. ;(\n",
            "ERR:  no caption available. ;(\n",
            "ERR:  no caption available. ;(\n",
            "ERR:  no caption available. ;(\n",
            "ERR:  no caption available. ;(\n",
            "ERR:  no caption available. ;(\n",
            "ERR:  no caption available. ;(\n",
            "ERR:  no caption available. ;(\n",
            "ERR:  no caption available. ;(\n",
            "ERR:  no caption available. ;(\n",
            "ERR:  no caption available. ;(\n",
            "ERR:  no caption available. ;(\n",
            "ERR:  no caption available. ;(\n",
            "ERR:  no caption available. ;(\n",
            "ERR:  no caption available. ;(\n",
            "ERR:  no caption available. ;(\n",
            "ERR:  no caption available. ;(\n",
            "ERR:  no caption available. ;(\n",
            "ERR:  no caption available. ;(\n",
            "ERR:  no caption available. ;(\n",
            "ERR:  no caption available. ;(\n",
            "ERR:  no caption available. ;(\n",
            "ERR:  no caption available. ;(\n",
            "ERR:  no caption available. ;(\n",
            "ERR:  no caption available. ;(\n",
            "ERR:  no caption available. ;(\n",
            "ERR:  no caption available. ;(\n",
            "ERR:  no caption available. ;(\n",
            "ERR:  no caption available. ;(\n",
            "ERR:  no caption available. ;(\n",
            "ERR:  no caption available. ;(\n",
            "ERR:  no caption available. ;(\n",
            "ERR:  no caption available. ;(\n",
            "ERR:  no caption available. ;(\n",
            "ERR:  no caption available. ;(\n",
            "ERR:  no caption available. ;(\n",
            "ERR:  no caption available. ;(\n",
            "ERR:  no caption available. ;(\n",
            "ERR:  no caption available. ;(\n",
            "ERR:  no caption available. ;(\n",
            "ERR:  no caption available. ;(\n",
            "ERR:  no caption available. ;(\n",
            "ERR:  no caption available. ;(\n",
            "ERR:  no caption available. ;(\n",
            "ERR:  no caption available. ;(\n",
            "ERR:  no caption available. ;(\n",
            "ERR:  no caption available. ;(\n",
            "ERR:  no caption available. ;(\n",
            "ERR:  no caption available. ;(\n",
            "ERR:  no caption available. ;(\n",
            "ERR:  no caption available. ;(\n",
            "ERR:  no caption available. ;(\n",
            "ERR:  no caption available. ;(\n",
            "ERR:  no caption available. ;(\n",
            "ERR:  no caption available. ;(\n",
            "ERR:  no caption available. ;(\n",
            "ERR:  no caption available. ;(\n",
            "ERR:  no caption available. ;(\n",
            "ERR:  no caption available. ;(\n",
            "ERR:  no caption available. ;(\n",
            "ERR:  no caption available. ;(\n",
            "ERR:  no caption available. ;(\n",
            "ERR:  no caption available. ;(\n",
            "ERR:  no caption available. ;(\n",
            "ERR:  no caption available. ;(\n",
            "ERR:  no caption available. ;(\n",
            "ERR:  no caption available. ;(\n",
            "ERR:  no caption available. ;(\n",
            "ERR:  no caption available. ;(\n",
            "ERR:  no caption available. ;(\n",
            "ERR:  no caption available. ;(\n",
            "ERR:  no caption available. ;(\n",
            "ERR:  no caption available. ;(\n",
            "ERR:  no caption available. ;(\n",
            "ERR:  no caption available. ;(\n",
            "ERR:  no caption available. ;(\n",
            "ERR:  no caption available. ;(\n",
            "ERR:  no caption available. ;(\n",
            "ERR:  no caption available. ;(\n",
            "ERR:  no caption available. ;(\n",
            "ERR:  no caption available. ;(\n",
            "ERR:  no caption available. ;(\n",
            "ERR:  no caption available. ;(\n",
            "ERR:  no caption available. ;(\n",
            "ERR:  no caption available. ;(\n",
            "ERR:  no caption available. ;(\n",
            "ERR:  no caption available. ;(\n",
            "ERR:  no caption available. ;(\n",
            "ERR:  no caption available. ;(\n",
            "ERR:  no caption available. ;(\n",
            "ERR:  no caption available. ;(\n",
            "ERR:  no caption available. ;(\n",
            "ERR:  no caption available. ;(\n",
            "ERR:  no caption available. ;(\n",
            "ERR:  no caption available. ;(\n",
            "ERR:  no caption available. ;(\n",
            "ERR:  no caption available. ;(\n",
            "\u001b[1m\u001b[31mERROR: \u001b[0mThe function received no value for the required argument: videoID\n",
            "Usage: dl-youtube-cc VIDEOID <flags>\n",
            "  optional flags:        --output_file | --save_to_file | --translation |\n",
            "                         --to_json | --caption_num | --remove_font_tag\n",
            "\n",
            "For detailed information on this command, run:\n",
            "  dl-youtube-cc --help\n",
            "ERR:  no caption available. ;(\n",
            "ERR:  no caption available. ;(\n",
            "ERR:  no caption available. ;(\n",
            "ERR:  no caption available. ;(\n",
            "ERR:  no caption available. ;(\n",
            "ERR:  no caption available. ;(\n",
            "ERR:  no caption available. ;(\n",
            "ERR:  no caption available. ;(\n",
            "ERR:  no caption available. ;(\n",
            "ERR:  no caption available. ;(\n",
            "ERR:  no caption available. ;(\n",
            "ERR:  no caption available. ;(\n",
            "ERR:  no caption available. ;(\n",
            "\u001b[1m\u001b[31mERROR: \u001b[0mThe function received no value for the required argument: videoID\n",
            "Usage: dl-youtube-cc VIDEOID <flags>\n",
            "  optional flags:        --output_file | --save_to_file | --translation |\n",
            "                         --to_json | --caption_num | --remove_font_tag\n",
            "\n",
            "For detailed information on this command, run:\n",
            "  dl-youtube-cc --help\n",
            "ERR:  no caption available. ;(\n",
            "ERR:  no caption available. ;(\n",
            "ERR:  no caption available. ;(\n",
            "ERR:  no caption available. ;(\n",
            "ERR:  no caption available. ;(\n",
            "ERR:  no caption available. ;(\n",
            "ERR:  no caption available. ;(\n",
            "ERR:  no caption available. ;(\n",
            "ERR:  no caption available. ;(\n",
            "ERR:  no caption available. ;(\n",
            "ERR:  no caption available. ;(\n",
            "ERR:  no caption available. ;(\n",
            "ERR:  no caption available. ;(\n",
            "ERR:  no caption available. ;(\n",
            "ERR:  no caption available. ;(\n",
            "ERR:  no caption available. ;(\n",
            "ERR:  no caption available. ;(\n",
            "ERR:  no caption available. ;(\n",
            "ERR:  no caption available. ;(\n",
            "ERR:  no caption available. ;(\n",
            "ERR:  no caption available. ;(\n",
            "ERR:  no caption available. ;(\n",
            "ERR:  no caption available. ;(\n",
            "ERR:  no caption available. ;(\n",
            "ERR:  no caption available. ;(\n",
            "ERR:  no caption available. ;(\n",
            "ERR:  no caption available. ;(\n",
            "ERR:  no caption available. ;(\n",
            "ERR:  no caption available. ;(\n",
            "ERR:  no caption available. ;(\n",
            "ERR:  no caption available. ;(\n",
            "ERR:  no caption available. ;(\n",
            "ERR:  no caption available. ;(\n",
            "ERR:  no caption available. ;(\n",
            "ERR:  no caption available. ;(\n",
            "ERR:  no caption available. ;(\n",
            "ERR:  no caption available. ;(\n",
            "ERR:  no caption available. ;(\n",
            "ERR:  no caption available. ;(\n",
            "ERR:  no caption available. ;(\n",
            "ERR:  no caption available. ;(\n",
            "ERR:  no caption available. ;(\n",
            "ERR:  no caption available. ;(\n",
            "ERR:  no caption available. ;(\n",
            "ERR:  no caption available. ;(\n",
            "ERR:  no caption available. ;(\n",
            "ERR:  no caption available. ;(\n",
            "ERR:  no caption available. ;(\n",
            "ERR:  no caption available. ;(\n",
            "ERR:  no caption available. ;(\n",
            "ERR:  no caption available. ;(\n",
            "ERR:  no caption available. ;(\n",
            "ERR:  no caption available. ;(\n",
            "ERR:  no caption available. ;(\n",
            "ERR:  no caption available. ;(\n",
            "ERR:  no caption available. ;(\n",
            "ERR:  no caption available. ;(\n",
            "ERR:  no caption available. ;(\n",
            "ERR:  no caption available. ;(\n",
            "ERR:  no caption available. ;(\n",
            "ERR:  no caption available. ;(\n",
            "ERR:  no caption available. ;(\n",
            "ERR:  no caption available. ;(\n",
            "ERR:  no caption available. ;(\n",
            "ERR:  no caption available. ;(\n",
            "ERR:  no caption available. ;(\n",
            "ERR:  no caption available. ;(\n",
            "ERR:  no caption available. ;(\n",
            "ERR:  no caption available. ;(\n",
            "ERR:  no caption available. ;(\n",
            "ERR:  no caption available. ;(\n",
            "ERR:  no caption available. ;(\n",
            "ERR:  no caption available. ;(\n",
            "ERR:  no caption available. ;(\n",
            "ERR:  no caption available. ;(\n",
            "ERR:  no caption available. ;(\n",
            "ERR:  no caption available. ;(\n",
            "ERR:  no caption available. ;(\n",
            "ERR:  no caption available. ;(\n",
            "ERR:  no caption available. ;(\n"
          ],
          "name": "stdout"
        }
      ]
    },
    {
      "cell_type": "code",
      "metadata": {
        "id": "4Ij9ve3HYJZd",
        "colab": {
          "base_uri": "https://localhost:8080/"
        },
        "outputId": "6943fd95-7c36-4669-ec04-ecd8243fc1a1"
      },
      "source": [
        "from pyspark.sql.types import StructType, StructField, StringType\n",
        "\n",
        "schema = StructType([\n",
        "                     StructField('video_id', StringType()),\n",
        "                     StructField('transcriptSnippet', StringType())\n",
        "])\n",
        "tempRdd = sc.parallelize([transcriptDictionary])\n",
        "transcriptDf = sqlContext.read.json(tempRdd, schema)\n",
        "transcriptDf.show(40, False)"
      ],
      "execution_count": null,
      "outputs": [
        {
          "output_type": "stream",
          "text": [
            "+-----------+------------------------------------------------------------------------+\n",
            "|video_id   |transcriptSnippet                                                       |\n",
            "+-----------+------------------------------------------------------------------------+\n",
            "|XpVt6Z1Gjjo|                                                                        |\n",
            "|XpVt6Z1Gjjo|adsdfsadfssdf                                                           |\n",
            "|XpVt6Z1Gjjo| * Tuned auto [ __ ] *                                                  |\n",
            "|XpVt6Z1Gjjo| Today is not an ordinary day, Logang                                   |\n",
            "|XpVt6Z1Gjjo| And that's because today is a one-year concert for my fotografia videos|\n",
            "|XpVt6Z1Gjjo| How beautiful a trip, man                                              |\n",
            "|XpVt6Z1Gjjo| The right time to stay alive                                           |\n",
            "|XpVt6Z1Gjjo| Gosh                                                                   |\n",
            "|XpVt6Z1Gjjo| I'm excited                                                            |\n",
            "|XpVt6Z1Gjjo| Okay, enough talking let's start this vlog                             |\n",
            "|XpVt6Z1Gjjo| AYO Good morning Logang                                                |\n",
            "|XpVt6Z1Gjjo| What appeared                                                          |\n",
            "|XpVt6Z1Gjjo| It is the official Logang                                              |\n",
            "|XpVt6Z1Gjjo| WOAH                                                                   |\n",
            "|XpVt6Z1Gjjo| You gud bro?                                                           |\n",
            "|XpVt6Z1Gjjo| I've been vlogging for 365 days                                        |\n",
            "|XpVt6Z1Gjjo| directly                                                               |\n",
            "|XpVt6Z1Gjjo| You gud bro?                                                           |\n",
            "|XpVt6Z1Gjjo| One year of vlogging                                                   |\n",
            "|XpVt6Z1Gjjo| Each. one day.                                                         |\n",
            "|XpVt6Z1Gjjo| Bro                                                                    |\n",
            "|XpVt6Z1Gjjo| What did you do with my-                                               |\n",
            "|XpVt6Z1Gjjo| What do I do with my life, Brendan?                                    |\n",
            "|XpVt6Z1Gjjo| [Brendan] You're not wearing pants though                              |\n",
            "|XpVt6Z1Gjjo| YeaaaAAh                                                               |\n",
            "|XpVt6Z1Gjjo| What? * Creak * you are Brendan                                        |\n",
            "|XpVt6Z1Gjjo| You're not wearing pants either                                        |\n",
            "|XpVt6Z1Gjjo|                                                                        |\n",
            "|XpVt6Z1Gjjo| I'm behind the camera                                                  |\n",
            "|XpVt6Z1Gjjo| I do not need to                                                       |\n",
            "|XpVt6Z1Gjjo| pfftd                                                                  |\n",
            "|XpVt6Z1Gjjo| Suck pants                                                             |\n",
            "|XpVt6Z1Gjjo| By the way                                                             |\n",
            "|XpVt6Z1Gjjo| I can't wait any longer, bro                                           |\n",
            "|XpVt6Z1Gjjo| It's outside                                                           |\n",
            "|XpVt6Z1Gjjo| It's out * fake sobbing *                                              |\n",
            "|XpVt6Z1Gjjo| In celebration                                                         |\n",
            "|XpVt6Z1Gjjo| *a bird*                                                               |\n",
            "|XpVt6Z1Gjjo| Only one second, thank you                                             |\n",
            "|XpVt6Z1Gjjo| In celebration of vlog-                                                |\n",
            "+-----------+------------------------------------------------------------------------+\n",
            "only showing top 40 rows\n",
            "\n"
          ],
          "name": "stdout"
        }
      ]
    },
    {
      "cell_type": "code",
      "metadata": {
        "id": "PwjrfegYPO3b",
        "colab": {
          "base_uri": "https://localhost:8080/"
        },
        "outputId": "246f68cd-a353-4c58-8bbb-e5550515349b"
      },
      "source": [
        "# Get rid of rows that have transcript errors.\n",
        "transcriptDf = transcriptDf.where(\"transcriptSnippet != 'ERROR' AND transcriptSnippet != ''\")\n",
        "transcriptDf.show()"
      ],
      "execution_count": null,
      "outputs": [
        {
          "output_type": "stream",
          "text": [
            "+-----------+--------------------+\n",
            "|   video_id|   transcriptSnippet|\n",
            "+-----------+--------------------+\n",
            "|XpVt6Z1Gjjo|       adsdfsadfssdf|\n",
            "|XpVt6Z1Gjjo| * Tuned auto [ _...|\n",
            "|XpVt6Z1Gjjo| Today is not an ...|\n",
            "|XpVt6Z1Gjjo| And that's becau...|\n",
            "|XpVt6Z1Gjjo| How beautiful a ...|\n",
            "|XpVt6Z1Gjjo| The right time t...|\n",
            "|XpVt6Z1Gjjo|                Gosh|\n",
            "|XpVt6Z1Gjjo|         I'm excited|\n",
            "|XpVt6Z1Gjjo| Okay, enough tal...|\n",
            "|XpVt6Z1Gjjo| AYO Good morning...|\n",
            "|XpVt6Z1Gjjo|       What appeared|\n",
            "|XpVt6Z1Gjjo| It is the offici...|\n",
            "|XpVt6Z1Gjjo|                WOAH|\n",
            "|XpVt6Z1Gjjo|        You gud bro?|\n",
            "|XpVt6Z1Gjjo| I've been vloggi...|\n",
            "|XpVt6Z1Gjjo|            directly|\n",
            "|XpVt6Z1Gjjo|        You gud bro?|\n",
            "|XpVt6Z1Gjjo| One year of vlog...|\n",
            "|XpVt6Z1Gjjo|      Each. one day.|\n",
            "|XpVt6Z1Gjjo|                 Bro|\n",
            "+-----------+--------------------+\n",
            "only showing top 20 rows\n",
            "\n"
          ],
          "name": "stdout"
        }
      ]
    },
    {
      "cell_type": "code",
      "metadata": {
        "id": "94xWtHDk8vLQ",
        "colab": {
          "base_uri": "https://localhost:8080/"
        },
        "outputId": "d7615e65-ac38-437a-eb18-273ad7f035a6"
      },
      "source": [
        "# Get rid of punctuation\n",
        "transcriptDfNoPunc = transcriptDf.select(col('video_id'), removePunctuation(col('transcriptSnippet')))\n",
        "transcriptDfNoPunc.show(40)"
      ],
      "execution_count": null,
      "outputs": [
        {
          "output_type": "stream",
          "text": [
            "+-----------+--------------------+\n",
            "|   video_id|        comment_text|\n",
            "+-----------+--------------------+\n",
            "|XpVt6Z1Gjjo|       adsdfsadfssdf|\n",
            "|XpVt6Z1Gjjo|          Tuned auto|\n",
            "|XpVt6Z1Gjjo|Today is not an o...|\n",
            "|XpVt6Z1Gjjo|And thats because...|\n",
            "|XpVt6Z1Gjjo|How beautiful a t...|\n",
            "|XpVt6Z1Gjjo|The right time to...|\n",
            "|XpVt6Z1Gjjo|                Gosh|\n",
            "|XpVt6Z1Gjjo|          Im excited|\n",
            "|XpVt6Z1Gjjo|Okay enough talki...|\n",
            "|XpVt6Z1Gjjo|AYO Good morning ...|\n",
            "|XpVt6Z1Gjjo|       What appeared|\n",
            "|XpVt6Z1Gjjo|It is the officia...|\n",
            "|XpVt6Z1Gjjo|                WOAH|\n",
            "|XpVt6Z1Gjjo|         You gud bro|\n",
            "|XpVt6Z1Gjjo|Ive been vlogging...|\n",
            "|XpVt6Z1Gjjo|            directly|\n",
            "|XpVt6Z1Gjjo|         You gud bro|\n",
            "|XpVt6Z1Gjjo|One year of vlogging|\n",
            "|XpVt6Z1Gjjo|        Each one day|\n",
            "|XpVt6Z1Gjjo|                 Bro|\n",
            "|XpVt6Z1Gjjo|What did you do w...|\n",
            "|XpVt6Z1Gjjo|What do I do with...|\n",
            "|XpVt6Z1Gjjo|Brendan Youre not...|\n",
            "|XpVt6Z1Gjjo|            YeaaaAAh|\n",
            "|XpVt6Z1Gjjo|What  Creak  you ...|\n",
            "|XpVt6Z1Gjjo|Youre not wearing...|\n",
            "|XpVt6Z1Gjjo|Im behind the camera|\n",
            "|XpVt6Z1Gjjo|    I do not need to|\n",
            "|XpVt6Z1Gjjo|               pfftd|\n",
            "|XpVt6Z1Gjjo|          Suck pants|\n",
            "|XpVt6Z1Gjjo|          By the way|\n",
            "|XpVt6Z1Gjjo|I cant wait any l...|\n",
            "|XpVt6Z1Gjjo|         Its outside|\n",
            "|XpVt6Z1Gjjo|Its out  fake sob...|\n",
            "|XpVt6Z1Gjjo|      In celebration|\n",
            "|XpVt6Z1Gjjo|              a bird|\n",
            "|XpVt6Z1Gjjo|Only one second t...|\n",
            "|XpVt6Z1Gjjo|In celebration of...|\n",
            "|XpVt6Z1Gjjo|Dude whats up wit...|\n",
            "|XpVt6Z1Gjjo|Why Whats up with...|\n",
            "+-----------+--------------------+\n",
            "only showing top 40 rows\n",
            "\n"
          ],
          "name": "stdout"
        }
      ]
    },
    {
      "cell_type": "code",
      "metadata": {
        "id": "eq1h0InbXoTu",
        "colab": {
          "base_uri": "https://localhost:8080/",
          "height": 631
        },
        "outputId": "e2fecb6c-78e0-4aa5-9454-b42f6e0c78d3"
      },
      "source": [
        "transcriptDfPandas = transcriptDfNoPunc.toPandas()\n",
        "transcriptDfPandas['transcriptSnippet'] = transcriptDfPandas['transcriptSnippet'].apply(lambda x: ' '.join([word for word in x.split() if word not in (stops)]))\n",
        "print(transcriptDfPandas)"
      ],
      "execution_count": null,
      "outputs": [
        {
          "output_type": "stream",
          "text": [
            "/usr/local/lib/python3.6/dist-packages/pyarrow/__init__.py:157: UserWarning: pyarrow.open_stream is deprecated, please use pyarrow.ipc.open_stream\n",
            "  warnings.warn(\"pyarrow.open_stream is deprecated, please use \"\n"
          ],
          "name": "stderr"
        },
        {
          "output_type": "error",
          "ename": "KeyError",
          "evalue": "ignored",
          "traceback": [
            "\u001b[0;31m---------------------------------------------------------------------------\u001b[0m",
            "\u001b[0;31mKeyError\u001b[0m                                  Traceback (most recent call last)",
            "\u001b[0;32m/usr/local/lib/python3.6/dist-packages/pandas/core/indexes/base.py\u001b[0m in \u001b[0;36mget_loc\u001b[0;34m(self, key, method, tolerance)\u001b[0m\n\u001b[1;32m   2894\u001b[0m             \u001b[0;32mtry\u001b[0m\u001b[0;34m:\u001b[0m\u001b[0;34m\u001b[0m\u001b[0;34m\u001b[0m\u001b[0m\n\u001b[0;32m-> 2895\u001b[0;31m                 \u001b[0;32mreturn\u001b[0m \u001b[0mself\u001b[0m\u001b[0;34m.\u001b[0m\u001b[0m_engine\u001b[0m\u001b[0;34m.\u001b[0m\u001b[0mget_loc\u001b[0m\u001b[0;34m(\u001b[0m\u001b[0mcasted_key\u001b[0m\u001b[0;34m)\u001b[0m\u001b[0;34m\u001b[0m\u001b[0;34m\u001b[0m\u001b[0m\n\u001b[0m\u001b[1;32m   2896\u001b[0m             \u001b[0;32mexcept\u001b[0m \u001b[0mKeyError\u001b[0m \u001b[0;32mas\u001b[0m \u001b[0merr\u001b[0m\u001b[0;34m:\u001b[0m\u001b[0;34m\u001b[0m\u001b[0;34m\u001b[0m\u001b[0m\n",
            "\u001b[0;32mpandas/_libs/index.pyx\u001b[0m in \u001b[0;36mpandas._libs.index.IndexEngine.get_loc\u001b[0;34m()\u001b[0m\n",
            "\u001b[0;32mpandas/_libs/index.pyx\u001b[0m in \u001b[0;36mpandas._libs.index.IndexEngine.get_loc\u001b[0;34m()\u001b[0m\n",
            "\u001b[0;32mpandas/_libs/hashtable_class_helper.pxi\u001b[0m in \u001b[0;36mpandas._libs.hashtable.PyObjectHashTable.get_item\u001b[0;34m()\u001b[0m\n",
            "\u001b[0;32mpandas/_libs/hashtable_class_helper.pxi\u001b[0m in \u001b[0;36mpandas._libs.hashtable.PyObjectHashTable.get_item\u001b[0;34m()\u001b[0m\n",
            "\u001b[0;31mKeyError\u001b[0m: 'transcriptSnippet'",
            "\nThe above exception was the direct cause of the following exception:\n",
            "\u001b[0;31mKeyError\u001b[0m                                  Traceback (most recent call last)",
            "\u001b[0;32m<ipython-input-67-75cda3165e42>\u001b[0m in \u001b[0;36m<module>\u001b[0;34m()\u001b[0m\n\u001b[1;32m      1\u001b[0m \u001b[0mtranscriptDfPandas\u001b[0m \u001b[0;34m=\u001b[0m \u001b[0mtranscriptDfNoPunc\u001b[0m\u001b[0;34m.\u001b[0m\u001b[0mtoPandas\u001b[0m\u001b[0;34m(\u001b[0m\u001b[0;34m)\u001b[0m\u001b[0;34m\u001b[0m\u001b[0;34m\u001b[0m\u001b[0m\n\u001b[0;32m----> 2\u001b[0;31m \u001b[0mtranscriptDfPandas\u001b[0m\u001b[0;34m[\u001b[0m\u001b[0;34m'transcriptSnippet'\u001b[0m\u001b[0;34m]\u001b[0m \u001b[0;34m=\u001b[0m \u001b[0mtranscriptDfPandas\u001b[0m\u001b[0;34m[\u001b[0m\u001b[0;34m'transcriptSnippet'\u001b[0m\u001b[0;34m]\u001b[0m\u001b[0;34m.\u001b[0m\u001b[0mapply\u001b[0m\u001b[0;34m(\u001b[0m\u001b[0;32mlambda\u001b[0m \u001b[0mx\u001b[0m\u001b[0;34m:\u001b[0m \u001b[0;34m' '\u001b[0m\u001b[0;34m.\u001b[0m\u001b[0mjoin\u001b[0m\u001b[0;34m(\u001b[0m\u001b[0;34m[\u001b[0m\u001b[0mword\u001b[0m \u001b[0;32mfor\u001b[0m \u001b[0mword\u001b[0m \u001b[0;32min\u001b[0m \u001b[0mx\u001b[0m\u001b[0;34m.\u001b[0m\u001b[0msplit\u001b[0m\u001b[0;34m(\u001b[0m\u001b[0;34m)\u001b[0m \u001b[0;32mif\u001b[0m \u001b[0mword\u001b[0m \u001b[0;32mnot\u001b[0m \u001b[0;32min\u001b[0m \u001b[0;34m(\u001b[0m\u001b[0mstops\u001b[0m\u001b[0;34m)\u001b[0m\u001b[0;34m]\u001b[0m\u001b[0;34m)\u001b[0m\u001b[0;34m)\u001b[0m\u001b[0;34m\u001b[0m\u001b[0;34m\u001b[0m\u001b[0m\n\u001b[0m\u001b[1;32m      3\u001b[0m \u001b[0mprint\u001b[0m\u001b[0;34m(\u001b[0m\u001b[0mtranscriptDfPandas\u001b[0m\u001b[0;34m)\u001b[0m\u001b[0;34m\u001b[0m\u001b[0;34m\u001b[0m\u001b[0m\n",
            "\u001b[0;32m/usr/local/lib/python3.6/dist-packages/pandas/core/frame.py\u001b[0m in \u001b[0;36m__getitem__\u001b[0;34m(self, key)\u001b[0m\n\u001b[1;32m   2904\u001b[0m             \u001b[0;32mif\u001b[0m \u001b[0mself\u001b[0m\u001b[0;34m.\u001b[0m\u001b[0mcolumns\u001b[0m\u001b[0;34m.\u001b[0m\u001b[0mnlevels\u001b[0m \u001b[0;34m>\u001b[0m \u001b[0;36m1\u001b[0m\u001b[0;34m:\u001b[0m\u001b[0;34m\u001b[0m\u001b[0;34m\u001b[0m\u001b[0m\n\u001b[1;32m   2905\u001b[0m                 \u001b[0;32mreturn\u001b[0m \u001b[0mself\u001b[0m\u001b[0;34m.\u001b[0m\u001b[0m_getitem_multilevel\u001b[0m\u001b[0;34m(\u001b[0m\u001b[0mkey\u001b[0m\u001b[0;34m)\u001b[0m\u001b[0;34m\u001b[0m\u001b[0;34m\u001b[0m\u001b[0m\n\u001b[0;32m-> 2906\u001b[0;31m             \u001b[0mindexer\u001b[0m \u001b[0;34m=\u001b[0m \u001b[0mself\u001b[0m\u001b[0;34m.\u001b[0m\u001b[0mcolumns\u001b[0m\u001b[0;34m.\u001b[0m\u001b[0mget_loc\u001b[0m\u001b[0;34m(\u001b[0m\u001b[0mkey\u001b[0m\u001b[0;34m)\u001b[0m\u001b[0;34m\u001b[0m\u001b[0;34m\u001b[0m\u001b[0m\n\u001b[0m\u001b[1;32m   2907\u001b[0m             \u001b[0;32mif\u001b[0m \u001b[0mis_integer\u001b[0m\u001b[0;34m(\u001b[0m\u001b[0mindexer\u001b[0m\u001b[0;34m)\u001b[0m\u001b[0;34m:\u001b[0m\u001b[0;34m\u001b[0m\u001b[0;34m\u001b[0m\u001b[0m\n\u001b[1;32m   2908\u001b[0m                 \u001b[0mindexer\u001b[0m \u001b[0;34m=\u001b[0m \u001b[0;34m[\u001b[0m\u001b[0mindexer\u001b[0m\u001b[0;34m]\u001b[0m\u001b[0;34m\u001b[0m\u001b[0;34m\u001b[0m\u001b[0m\n",
            "\u001b[0;32m/usr/local/lib/python3.6/dist-packages/pandas/core/indexes/base.py\u001b[0m in \u001b[0;36mget_loc\u001b[0;34m(self, key, method, tolerance)\u001b[0m\n\u001b[1;32m   2895\u001b[0m                 \u001b[0;32mreturn\u001b[0m \u001b[0mself\u001b[0m\u001b[0;34m.\u001b[0m\u001b[0m_engine\u001b[0m\u001b[0;34m.\u001b[0m\u001b[0mget_loc\u001b[0m\u001b[0;34m(\u001b[0m\u001b[0mcasted_key\u001b[0m\u001b[0;34m)\u001b[0m\u001b[0;34m\u001b[0m\u001b[0;34m\u001b[0m\u001b[0m\n\u001b[1;32m   2896\u001b[0m             \u001b[0;32mexcept\u001b[0m \u001b[0mKeyError\u001b[0m \u001b[0;32mas\u001b[0m \u001b[0merr\u001b[0m\u001b[0;34m:\u001b[0m\u001b[0;34m\u001b[0m\u001b[0;34m\u001b[0m\u001b[0m\n\u001b[0;32m-> 2897\u001b[0;31m                 \u001b[0;32mraise\u001b[0m \u001b[0mKeyError\u001b[0m\u001b[0;34m(\u001b[0m\u001b[0mkey\u001b[0m\u001b[0;34m)\u001b[0m \u001b[0;32mfrom\u001b[0m \u001b[0merr\u001b[0m\u001b[0;34m\u001b[0m\u001b[0;34m\u001b[0m\u001b[0m\n\u001b[0m\u001b[1;32m   2898\u001b[0m \u001b[0;34m\u001b[0m\u001b[0m\n\u001b[1;32m   2899\u001b[0m         \u001b[0;32mif\u001b[0m \u001b[0mtolerance\u001b[0m \u001b[0;32mis\u001b[0m \u001b[0;32mnot\u001b[0m \u001b[0;32mNone\u001b[0m\u001b[0;34m:\u001b[0m\u001b[0;34m\u001b[0m\u001b[0;34m\u001b[0m\u001b[0m\n",
            "\u001b[0;31mKeyError\u001b[0m: 'transcriptSnippet'"
          ]
        }
      ]
    },
    {
      "cell_type": "code",
      "metadata": {
        "id": "QZNSJ7FreEjk"
      },
      "source": [
        "transcriptNoStopDf = spark.createDataFrame(transcriptDfPandas)\n",
        "\n",
        "transcriptNoStopDf.show(40)"
      ],
      "execution_count": null,
      "outputs": []
    },
    {
      "cell_type": "code",
      "metadata": {
        "id": "oT8bBYIEhRZQ"
      },
      "source": [
        "transcriptSnippet = transcriptNoStopDf.select('transcriptSnippet').rdd.map(lambda x: x['transcriptSnippet']).collect()\n",
        "print(transcriptSnippet)\n",
        "snippetSentimentResults = pipeline_SA.annotate(transcriptSnippet)\n"
      ],
      "execution_count": null,
      "outputs": []
    },
    {
      "cell_type": "code",
      "metadata": {
        "id": "lvYK064SP6vj"
      },
      "source": [
        "print(snippetSentimentResults)\n",
        "sentimentRdd = sc.parallelize(snippetSentimentResults)\n",
        "sentimentDF = sentimentRdd.toDF()\n",
        "sentimentDF = sentimentDF.select('document', 'sentiment')\n",
        "sentimentDF = sentimentDF.withColumn('snippet', sentimentDF.document[0])\n",
        "sentimentDF = sentimentDF.withColumn('sentiment', sentimentDF.sentiment[0])\n",
        "dropColumns = ['document']\n",
        "sentimentDF = sentimentDF.drop(*dropColumns)\n",
        "sentimentDF.show()\n",
        "sentimentDF.printSchema()"
      ],
      "execution_count": null,
      "outputs": []
    },
    {
      "cell_type": "code",
      "metadata": {
        "id": "BwghZ6fsV5tM"
      },
      "source": [
        "transcriptSentimentDF = transcriptNoStopDf.join(sentimentDF, transcriptNoStopDf.transcriptSnippet == sentimentDF.snippet)\n",
        "transcriptSentimentDF = transcriptSentimentDF.drop('snippet')\n",
        "transcriptSentimentDF = transcriptSentimentDF.where('sentiment != \"na\"')\n",
        "transcriptSentimentDF.show()"
      ],
      "execution_count": null,
      "outputs": []
    },
    {
      "cell_type": "code",
      "metadata": {
        "id": "i2yDizl4YK6x"
      },
      "source": [
        "transcriptSentimentDF.createOrReplaceTempView(\"transcriptSentimentDF\")\n",
        "\n",
        "sqlQuerySentimentCount = sqlContext.sql(\n",
        "    'SELECT sum(case sentiment WHEN \"positive\" then 1 else 0 end) as PositiveSnippetCount, sum(case sentiment WHEN \"negative\" then 1 else 0 end) as NegativeSnippetCount, video_id as id FROM transcriptSentimentDF GROUP BY video_id')\n",
        "sqlQuerySentimentCount.show()"
      ],
      "execution_count": null,
      "outputs": []
    },
    {
      "cell_type": "code",
      "metadata": {
        "id": "-kjDJeMveHaA"
      },
      "source": [
        "videoDataDF = videoDataDF.join(sqlQuerySentimentCount, sqlQuerySentimentCount.id == videoDataDF.video_id)\n",
        "videoDataDF = videoDataDF.drop('id')\n",
        "\n",
        "videoDataDF.show()"
      ],
      "execution_count": null,
      "outputs": []
    },
    {
      "cell_type": "code",
      "metadata": {
        "id": "6X63SGckfWF-"
      },
      "source": [
        "videoDataDF = videoDataDF.withColumn('positiveSnippetRatio', videoDataDF.PositiveSnippetCount / (videoDataDF.PositiveSnippetCount + videoDataDF.NegativeSnippetCount))\n",
        "\n",
        "videoDataDF.show()"
      ],
      "execution_count": null,
      "outputs": []
    }
  ]
}